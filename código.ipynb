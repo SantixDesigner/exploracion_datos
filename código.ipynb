{
 "cells": [
  {
   "cell_type": "code",
   "execution_count": null,
   "metadata": {},
   "outputs": [],
   "source": [
    "import janitor\n",
    "import palmerpenguins\n",
    "import statsmodels\n",
    "import empiricaldist\n",
    "import matplotlib.pyplot as plt \n",
    "import numpy as np \n",
    "import pandas as pd\n",
    "import seaborn as sns \n",
    "import sklearn.metrics\n",
    "import statsmodels.api as sm \n",
    "import statsmodels.formula.api as smf \n",
    "import scipy.stats\n",
    "import statsmodels.stats as ss "
   ]
  },
  {
   "cell_type": "code",
   "execution_count": null,
   "metadata": {},
   "outputs": [],
   "source": [
    "sns.set_style(style='whitegrid')\n",
    "sns.set_context(context='notebook')\n",
    "plt.rcParams['figure.figsize'] = (11,9.4)\n",
    "penguin_color = {\n",
    "  \"Adelie\":\"#ff6602ff\",\n",
    "  \"Gentoo\":\"#07f7175f\",\n",
    "  \"Chinstrap\":\"#c65dc9ff\"\n",
    "}"
   ]
  },
  {
   "cell_type": "code",
   "execution_count": null,
   "metadata": {},
   "outputs": [],
   "source": [
    "raw_penguins_df = palmerpenguins.load_penguins_raw()"
   ]
  },
  {
   "cell_type": "code",
   "execution_count": null,
   "metadata": {},
   "outputs": [],
   "source": [
    "preprocess_penguins_df = palmerpenguins.load_penguins()\n",
    "preprocess_penguins_df.dtypes"
   ]
  },
  {
   "cell_type": "code",
   "execution_count": null,
   "metadata": {},
   "outputs": [],
   "source": [
    "preprocess_penguins_df.dtypes.value_counts()"
   ]
  },
  {
   "cell_type": "code",
   "execution_count": null,
   "metadata": {},
   "outputs": [],
   "source": [
    "preprocess_penguins_df.shape"
   ]
  },
  {
   "cell_type": "code",
   "execution_count": null,
   "metadata": {},
   "outputs": [],
   "source": [
    "preprocess_penguins_df.isnull().any()"
   ]
  },
  {
   "cell_type": "code",
   "execution_count": null,
   "metadata": {},
   "outputs": [],
   "source": [
    "preprocess_penguins_df.isnull().sum()"
   ]
  },
  {
   "cell_type": "code",
   "execution_count": null,
   "metadata": {},
   "outputs": [],
   "source": [
    "(preprocess_penguins_df\n",
    ".isnull()\n",
    ".sum()\n",
    ".sum())"
   ]
  },
  {
   "cell_type": "code",
   "execution_count": null,
   "metadata": {},
   "outputs": [],
   "source": [
    "preprocess_penguins_df.isnull().melt().pipe(lambda df: (sns.displot(data=df, y='variable', hue='value',multiple='fill')))\n",
    "\n",
    "preprocess_penguins_df.isnull().transpose().pipe(lambda df: (sns.heatmap(data=df)))"
   ]
  },
  {
   "cell_type": "code",
   "execution_count": null,
   "metadata": {},
   "outputs": [],
   "source": [
    "processed_penguins_df = preprocess_penguins_df.dropna()"
   ]
  },
  {
   "cell_type": "code",
   "execution_count": null,
   "metadata": {},
   "outputs": [],
   "source": [
    "processed_penguins_df"
   ]
  },
  {
   "cell_type": "code",
   "execution_count": null,
   "metadata": {},
   "outputs": [],
   "source": [
    "lista1 = []\n",
    "for columnas in preprocess_penguins_df.columns:\n",
    "  lista1.append(preprocess_penguins_df[preprocess_penguins_df[columnas].isnull()].index)\n",
    "\n",
    "lista2 = []\n",
    "for columna in lista1:\n",
    "  for numero_fila in columna:\n",
    "    lista2.append(numero_fila)\n",
    "\n",
    "lista3 = list(set(lista2))\n",
    "lista3.sort()\n",
    "preprocess_penguins_df.iloc[lista3[2]]"
   ]
  },
  {
   "cell_type": "code",
   "execution_count": null,
   "metadata": {},
   "outputs": [],
   "source": [
    "data_island = processed_penguins_df.astype({\n",
    "  'species':'category',\n",
    "  'island':'category',\n",
    "  'sex':'category'\n",
    "})\n",
    "fig, axes = plt.subplots(1,3, figsize=(30,10))\n",
    "columns = data_island.select_dtypes('category').columns\n",
    "for i in range(len(columns)):\n",
    "  sns.histplot(\n",
    "    ax=axes[i],\n",
    "    data=data_island,\n",
    "    x=columns[i],\n",
    "    hue='species',\n",
    "    multiple='stack',\n",
    "  )\n",
    "plt.show()"
   ]
  },
  {
   "cell_type": "code",
   "execution_count": null,
   "metadata": {},
   "outputs": [],
   "source": [
    "fig,ax = plt.subplots(1,3,figsize=(30,10))\n",
    "\n",
    "for i in range(len(columns)):\n",
    "   sns.histplot(\n",
    "        ax=ax[i],\n",
    "        data=data_island.add_column('x','').reset_index(),\n",
    "        x='x',\n",
    "        hue=columns[i],\n",
    "        multiple='stack',\n",
    "        palette=penguin_color if columns[i]=='species' else None,\n",
    "        alpha=0.5\n",
    "    )"
   ]
  },
  {
   "cell_type": "code",
   "execution_count": null,
   "metadata": {},
   "outputs": [],
   "source": [
    "fig, ax = plt.subplots(1,1, figsize=(5,5))\n",
    "a = data_island['species'].value_counts().reset_index()\n",
    "a\n",
    "ax.pie(x=a['count'], labels=a['species'], autopct='%0.1f%%')\n",
    "plt.show()"
   ]
  },
  {
   "cell_type": "code",
   "execution_count": null,
   "metadata": {},
   "outputs": [],
   "source": [
    "species = preprocess_penguins_df['species'].value_counts().reset_index()"
   ]
  },
  {
   "cell_type": "code",
   "execution_count": null,
   "metadata": {},
   "outputs": [],
   "source": [
    "sns.barplot(data=species, x='species', y='count', hue='species')"
   ]
  },
  {
   "cell_type": "code",
   "execution_count": null,
   "metadata": {},
   "outputs": [],
   "source": [
    "maxs = processed_penguins_df.max(numeric_only=True)"
   ]
  },
  {
   "cell_type": "code",
   "execution_count": null,
   "metadata": {},
   "outputs": [],
   "source": [
    "mins = processed_penguins_df.min(numeric_only=True)"
   ]
  },
  {
   "cell_type": "code",
   "execution_count": null,
   "metadata": {},
   "outputs": [],
   "source": [
    "rango = maxs - mins \n",
    "\n",
    "rango"
   ]
  },
  {
   "cell_type": "code",
   "execution_count": null,
   "metadata": {},
   "outputs": [],
   "source": [
    "desv_est = processed_penguins_df.std(numeric_only=True)\n",
    "desv_est"
   ]
  },
  {
   "cell_type": "code",
   "execution_count": null,
   "metadata": {},
   "outputs": [],
   "source": [
    "mean_penguins = processed_penguins_df.mean(numeric_only=True)"
   ]
  },
  {
   "cell_type": "code",
   "execution_count": null,
   "metadata": {},
   "outputs": [],
   "source": [
    "q1 = processed_penguins_df['flipper_length_mm'].quantile(q=0.25)\n",
    "\n",
    "q3 = processed_penguins_df['flipper_length_mm'].quantile(q=0.75)\n",
    "\n",
    "iqr = q3-q1"
   ]
  },
  {
   "cell_type": "code",
   "execution_count": null,
   "metadata": {},
   "outputs": [],
   "source": [
    "cuantiles = processed_penguins_df.quantile(q=[0.75, 0.5, 0.25], numeric_only=True).transpose().rename_axis('variable').reset_index().assign(iqr=lambda df: df[0.75]-df[0.25])"
   ]
  },
  {
   "cell_type": "code",
   "execution_count": null,
   "metadata": {},
   "outputs": [],
   "source": [
    "sns.histplot(data=processed_penguins_df, x='flipper_length_mm', bins=30, hue='species')\n",
    "plt.axvline(x=processed_penguins_df['flipper_length_mm'].mode()[0], color='red', linestyle='dashed', linewidth=2)\n",
    "\n",
    "plt.axvline(x=processed_penguins_df['flipper_length_mm'].mean())\n",
    "\n",
    "plt.axvline(x=processed_penguins_df['flipper_length_mm'].median())\n",
    "plt.axvline(x=q1)\n",
    "plt.axvline(x=q3, label='er')\n",
    "\n",
    "plt.text(184.7,25.5, 'Q(25%)', fontsize=12)\n",
    "plt.text(192,25.5, 'median', fontsize=12, color='g')\n",
    "plt.text(201.5,25.5, 'mean', fontsize=12, color='r')\n",
    "plt.text(213.5,25.5, 'Q(75%)', fontsize=12)\n",
    "\n",
    "plt.show()"
   ]
  },
  {
   "cell_type": "code",
   "execution_count": null,
   "metadata": {},
   "outputs": [],
   "source": [
    "sns.boxplot(data=processed_penguins_df, x='flipper_length_mm', hue='species', y='species')"
   ]
  },
  {
   "cell_type": "code",
   "execution_count": null,
   "metadata": {},
   "outputs": [],
   "source": [
    "sns.histplot(data=processed_penguins_df, x='flipper_length_mm', hue='species', binwidth=1, stat='probability')"
   ]
  },
  {
   "cell_type": "code",
   "execution_count": null,
   "metadata": {},
   "outputs": [],
   "source": [
    "pmf_flipper_length_mm = empiricaldist.Pmf.from_seq(processed_penguins_df['flipper_length_mm'], normalize=True)\n",
    "\n",
    "pmf_flipper_length_mm.bar()"
   ]
  },
  {
   "cell_type": "code",
   "execution_count": null,
   "metadata": {},
   "outputs": [],
   "source": [
    "pmf_flipper_length_mm(190)"
   ]
  },
  {
   "cell_type": "code",
   "execution_count": null,
   "metadata": {},
   "outputs": [],
   "source": [
    "processed_penguins_df['flipper_length_mm'].max()"
   ]
  },
  {
   "cell_type": "code",
   "execution_count": null,
   "metadata": {},
   "outputs": [],
   "source": [
    "sns.ecdfplot(data=processed_penguins_df, x='flipper_length_mm')\n",
    "cdf_flipper_length_mm = empiricaldist.Cdf.from_seq(processed_penguins_df['flipper_length_mm'], normalize=True)"
   ]
  },
  {
   "cell_type": "code",
   "execution_count": null,
   "metadata": {},
   "outputs": [],
   "source": [
    "cdf_flipper_length_mm.plot()\n",
    "\n",
    "q = 200\n",
    "p = cdf_flipper_length_mm.forward(q)\n",
    "\n",
    "p_1 = 0.25 # Specify probability\n",
    "p_2 = 0.75\n",
    "ps = ( p_1, p_2 ) # IQR\n",
    "qs = cdf_flipper_length_mm.inverse(ps)\n",
    "plt.vlines (\n",
    "    x = qs,\n",
    "    ymin = 0,\n",
    "    ymax=ps,\n",
    "    color='black',\n",
    "    linestyle='dashed'\n",
    ")\n",
    "\n",
    "plt.hlines(\n",
    "   y=ps,\n",
    "   xmin=pmf_flipper_length_mm.qs[0],\n",
    "   xmax=qs,\n",
    "   color='black',\n",
    "   linestyle='dashed'\n",
    ")\n",
    "\n",
    "plt.scatter(\n",
    "   x=qs,\n",
    "   y=ps,\n",
    "   color='red',\n",
    "   zorder=2\n",
    ")"
   ]
  },
  {
   "cell_type": "code",
   "execution_count": null,
   "metadata": {},
   "outputs": [],
   "source": [
    "sns.ecdfplot(data=processed_penguins_df, x='flipper_length_mm', hue='species')\n",
    "plt.show()"
   ]
  },
  {
   "cell_type": "code",
   "execution_count": null,
   "metadata": {},
   "outputs": [],
   "source": [
    "sns.kdeplot(\n",
    "  data=processed_penguins_df,\n",
    "  x='flipper_length_mm',\n",
    "  bw_method=0.15\n",
    ")"
   ]
  },
  {
   "cell_type": "code",
   "execution_count": null,
   "metadata": {},
   "outputs": [],
   "source": [
    "stats = processed_penguins_df['body_mass_g'].describe()\n",
    "stats"
   ]
  },
  {
   "cell_type": "code",
   "execution_count": null,
   "metadata": {},
   "outputs": [],
   "source": [
    "xs = np.linspace(stats['min'], stats['max'])\n",
    "\n",
    "ys = scipy.stats.norm(stats['mean'], stats['std']).cdf(xs)\n",
    "\n",
    "ys\n",
    "\n",
    "plt.plot(xs,ys, color='black', linestyle='dashed')\n",
    "\n",
    "empiricaldist.Cdf.from_seq(processed_penguins_df['body_mass_g']).plot()"
   ]
  },
  {
   "cell_type": "code",
   "execution_count": null,
   "metadata": {},
   "outputs": [],
   "source": [
    "xs = np.linspace(stats['min'], stats['max'])\n",
    "\n",
    "ys = scipy.stats.norm(stats['mean'], stats['std']).pdf(xs)\n",
    "\n",
    "ys\n",
    "\n",
    "plt.plot(xs,ys, color='black', linestyle='dashed')\n",
    "\n",
    "sns.kdeplot(data=processed_penguins_df, x='body_mass_g')"
   ]
  },
  {
   "cell_type": "code",
   "execution_count": null,
   "metadata": {},
   "outputs": [],
   "source": [
    "dado = empiricaldist.Pmf.from_seq([1,2,3,4,5,6])\n",
    "dado.bar()"
   ]
  },
  {
   "cell_type": "code",
   "execution_count": null,
   "metadata": {},
   "outputs": [],
   "source": [
    "for sample_size in (1e2, 1e3, 1e4, 1e5, 1e7):\n",
    "  sample_size = int(sample_size)\n",
    "  values = dado.sample(sample_size)\n",
    "  sample_pmf = empiricaldist.Pmf.from_seq(values)\n",
    "  plt.figure()\n",
    "  sample_pmf.bar()\n",
    "  plt.axhline(y=1/6, color='red', linestyle='dashed')\n",
    "\n",
    "  plt.ylim([0, 0.5])\n",
    "  plt.title(f'Sample size: {sample_size}')"
   ]
  },
  {
   "cell_type": "code",
   "execution_count": null,
   "metadata": {},
   "outputs": [],
   "source": [
    "datos = processed_penguins_df['sex'].value_counts(normalize=True)"
   ]
  },
  {
   "cell_type": "code",
   "execution_count": null,
   "metadata": {},
   "outputs": [],
   "source": [
    "number_samples = 1000\n",
    "sample_size = 35\n",
    "\n",
    "np.random.seed(42)\n",
    "\n",
    "# definimos el DataFrame en blanco con su tamaño definido\n",
    "sex_num = processed_penguins_df['sex'].replace(['male', 'female'], [1, 0])\n",
    "number_samples = 1000\n",
    "sample_size = 35\n",
    "\n",
    "np.random.seed(42)\n",
    "samples_array = np.empty((sample_size, number_samples))\n",
    "for i in range(number_samples):\n",
    "    sex_numeric_sample = sex_num.sample(sample_size, replace=True).to_numpy()\n",
    "    samples_array[:, i] = sex_numeric_sample\n",
    "\n",
    "samples_df = pd.DataFrame(samples_array, columns=[f'sample_{i+1}' for i in range(number_samples)])\n",
    "male_population_mean = samples_df.mean().mean()\n",
    "print(f'Estimated percentage of male penguins in the population is: {male_population_mean * 100}%')"
   ]
  },
  {
   "cell_type": "code",
   "execution_count": null,
   "metadata": {},
   "outputs": [],
   "source": [
    "# Plot kernel density of sample means\n",
    "sample_means_binomial = pd.DataFrame(samples_df.mean(), columns=['sample_mean'])\n",
    "\n",
    "# Set a wider figure size\n",
    "plt.figure(figsize=(12, 6))\n",
    "\n",
    "sns.kdeplot(data=sample_means_binomial['sample_mean'], label='Sample Means')\n",
    "# Calculate statistics for the sample means\n",
    "sample_means_stats = pd.DataFrame(samples_df.mean()).describe().transpose()\n",
    "# Generate x values for the theoretical normal distribution\n",
    "xs = np.linspace(sample_means_stats['min'][0], sample_means_stats['max'], 50)\n",
    "\n",
    "# Calculate the PDF for the theoretical normal distribution\n",
    "ys = scipy.stats.norm(sample_means_stats['mean'][0], sample_means_stats['std']).pdf(xs)\n",
    "\n",
    "# Plot the theoretical normal distribution\n",
    "plt.plot(xs, ys, color='black', linestyle='dashed', label='Theoretical Normal Distribution')\n",
    "\n",
    "# Highlight the mean of sample means\n",
    "plt.axvline(x=sample_means_stats['mean'][0], color='red', linestyle='dashed', label='Mean of Sample Means')\n",
    "\n",
    "plt.title('Kernel Density Plot and Theoretical Normal Distribution of Sample Means')\n",
    "plt.legend()\n",
    "\n",
    "plt.show()"
   ]
  },
  {
   "cell_type": "code",
   "execution_count": null,
   "metadata": {},
   "outputs": [],
   "source": [
    "sample_size_experiment = pd.DataFrame(\n",
    "  [[i, samples_df.iloc[:,0:i].mean().mean().mean()] for i in range(1, number_samples + 1)], columns=['sample_size', 'estimated_mean']\n",
    ")\n",
    "\n",
    "# Imprimir el DataFrame resultante"
   ]
  },
  {
   "cell_type": "code",
   "execution_count": null,
   "metadata": {},
   "outputs": [],
   "source": [
    "sns.scatterplot(data=sample_size_experiment, x='sample_size', y='estimated_mean')\n",
    "\n",
    "plt.axhline(y=sex_num.mean(), color='red', linestyle='dashed')\n",
    "\n",
    "plt.ylim([sex_num.mean() - 0.2, sex_num.mean() + 0.2])"
   ]
  },
  {
   "cell_type": "code",
   "execution_count": null,
   "metadata": {},
   "outputs": [],
   "source": [
    "sns.scatterplot(data=processed_penguins_df, x='flipper_length_mm', y='body_mass_g', s=50, alpha=0.5)\n"
   ]
  },
  {
   "cell_type": "code",
   "execution_count": null,
   "metadata": {},
   "outputs": [],
   "source": [
    "sns.boxplot(data=processed_penguins_df, x='flipper_length_mm', y='species')\n",
    "sns.stripplot(data=processed_penguins_df, x='flipper_length_mm', y='species')"
   ]
  },
  {
   "cell_type": "code",
   "execution_count": null,
   "metadata": {},
   "outputs": [],
   "source": [
    "sns.violinplot(data=processed_penguins_df, x='species', y='flipper_length_mm')\n",
    "sns.stripplot(data=processed_penguins_df, y='flipper_length_mm', x='species', hue='species')"
   ]
  },
  {
   "cell_type": "code",
   "execution_count": null,
   "metadata": {},
   "outputs": [],
   "source": [
    "sns.swarmplot(data=processed_penguins_df, x='species', y='flipper_length_mm', palette=penguin_color, hue='species')"
   ]
  },
  {
   "cell_type": "code",
   "execution_count": null,
   "metadata": {},
   "outputs": [],
   "source": [
    "sns.swarmplot(data=processed_penguins_df, x='island', y='flipper_length_mm', hue='year')"
   ]
  },
  {
   "cell_type": "code",
   "execution_count": null,
   "metadata": {},
   "outputs": [],
   "source": [
    "processed_penguins_df.corr(numeric_only=True)\n",
    "\n",
    "sns.pairplot(data=processed_penguins_df)"
   ]
  },
  {
   "cell_type": "code",
   "execution_count": null,
   "metadata": {},
   "outputs": [],
   "source": [
    "sns.heatmap(data=processed_penguins_df.corr(numeric_only=True), center=0,\n",
    "            cmap=sns.diverging_palette(20,230,as_cmap=True),\n",
    "            vmin=-1,\n",
    "            vmax=1,\n",
    "            linewidth=0.5,\n",
    "            annot=True)"
   ]
  },
  {
   "cell_type": "code",
   "execution_count": null,
   "metadata": {},
   "outputs": [],
   "source": [
    "sns.clustermap(data=processed_penguins_df.corr(numeric_only=True), center=0,\n",
    "            cmap=sns.diverging_palette(20,230,as_cmap=True),\n",
    "            vmin=-1,\n",
    "            vmax=1,\n",
    "            linewidth=0.5,\n",
    "            annot=True)"
   ]
  },
  {
   "cell_type": "code",
   "execution_count": null,
   "metadata": {},
   "outputs": [],
   "source": [
    "processed_penguins_df = processed_penguins_df.assign(numeric_sex=lambda df:df['sex'].replace(['female','male'], [0,1]))"
   ]
  },
  {
   "cell_type": "code",
   "execution_count": null,
   "metadata": {},
   "outputs": [],
   "source": [
    "sns.clustermap(data=processed_penguins_df.corr(numeric_only=True), center=0,\n",
    "            cmap=sns.diverging_palette(20,230,as_cmap=True),\n",
    "            vmin=-1,\n",
    "            vmax=1,\n",
    "            linewidth=0.5,\n",
    "            annot=True)"
   ]
  },
  {
   "cell_type": "code",
   "execution_count": null,
   "metadata": {},
   "outputs": [],
   "source": [
    "x = np.linspace(-100, 100, 100)\n",
    "y = x**2\n",
    "y+=np.random.normal(0,1000, x.size)"
   ]
  },
  {
   "cell_type": "code",
   "execution_count": null,
   "metadata": {},
   "outputs": [],
   "source": [
    "sns.scatterplot(x=x, y=y)\n",
    "\n",
    "np.corrcoef(x,y)"
   ]
  },
  {
   "cell_type": "code",
   "execution_count": null,
   "metadata": {},
   "outputs": [],
   "source": [
    "x = np.linspace(-100, 100, 100)\n",
    "y = x**5\n",
    "y+=np.random.normal(0,1000, x.size)"
   ]
  },
  {
   "cell_type": "code",
   "execution_count": null,
   "metadata": {},
   "outputs": [],
   "source": [
    "sns.scatterplot(x=x, y=y)\n",
    "\n",
    "np.corrcoef(x,y)"
   ]
  },
  {
   "cell_type": "code",
   "execution_count": null,
   "metadata": {},
   "outputs": [],
   "source": [
    "sns.scatterplot(\n",
    "  data=processed_penguins_df,\n",
    "  x='bill_length_mm',\n",
    "  y='bill_depth_mm'\n",
    ")\n",
    "\n",
    "np.corrcoef(processed_penguins_df['bill_depth_mm'], processed_penguins_df['bill_length_mm'])"
   ]
  },
  {
   "cell_type": "code",
   "execution_count": null,
   "metadata": {},
   "outputs": [],
   "source": [
    "np.random.seed(42)\n",
    "x1 = np.linspace(0,100,100)\n",
    "y1 = 0.1* x1 +3 + np.random.uniform(-2,2,size=x1.size)\n",
    "\n",
    "sns.scatterplot(x=x1, y=y1)\n",
    "\n",
    "\n",
    "x2 = np.linspace(0,100,100)\n",
    "y2 = 0.5* x1 +1 + np.random.uniform(0,60,size=x2.size)\n",
    "\n",
    "sns.scatterplot(x=x2, y=y2)\n",
    "\n",
    "plt.legend([\"1\",\"2\"])\n",
    "\n",
    "print(np.corrcoef(x1,y1))\n",
    "print(np.corrcoef(x2,y2))"
   ]
  },
  {
   "cell_type": "code",
   "execution_count": null,
   "metadata": {},
   "outputs": [],
   "source": [
    "res_1 = scipy.stats.linregress(x=x1, y=y1)\n",
    "res_2 = scipy.stats.linregress(x=x2, y=y2)\n",
    "\n",
    "print(res_1, res_2, sep='\\n')"
   ]
  },
  {
   "cell_type": "code",
   "execution_count": null,
   "metadata": {},
   "outputs": [],
   "source": [
    "sns.scatterplot(x=x1, y=y1)\n",
    "\n",
    "fx_1 = np.array([x1.min(), x1.max()])\n",
    "fy_1 = res_1.intercept + res_1.slope * fx_1\n",
    "\n",
    "plt.plot(fx_1, fy_1)\n",
    "fx_2 = np.array([x2.min(), x2.max()])\n",
    "fy_2 = res_2.intercept + res_2.slope * fx_2\n",
    "\n",
    "sns.scatterplot(x=x2, y=y2)\n",
    "\n",
    "plt.plot(fx_2, fy_2)\n",
    "\n",
    "plt.legend(labels=['1','1','2','2'])"
   ]
  },
  {
   "cell_type": "code",
   "execution_count": null,
   "metadata": {},
   "outputs": [],
   "source": [
    "sns.lmplot(data=processed_penguins_df, x='bill_length_mm', y='bill_depth_mm', hue='species')"
   ]
  },
  {
   "cell_type": "code",
   "execution_count": null,
   "metadata": {},
   "outputs": [],
   "source": [
    "#sns.scatterplot(data=processed_penguins_df, x='bill_length_mm', y='bill_depth_mm')\n",
    "sns.lmplot(data=processed_penguins_df, x='bill_length_mm', y='bill_depth_mm', hue='species')\n",
    "\n",
    "res_penguin = scipy.stats.linregress(\n",
    "  x=processed_penguins_df['bill_length_mm'],\n",
    "  y=processed_penguins_df['bill_depth_mm']\n",
    ")\n",
    "\n",
    "fx_1 = np.array([processed_penguins_df['bill_length_mm'].min(), processed_penguins_df['bill_length_mm'].max()])\n",
    "\n",
    "fy_1 = res_penguin.intercept + res_penguin.slope * fx_1\n",
    "plt.plot(fx_1, fy_1)"
   ]
  },
  {
   "cell_type": "code",
   "execution_count": null,
   "metadata": {},
   "outputs": [],
   "source": [
    "x = processed_penguins_df['bill_length_mm']\n",
    "y = processed_penguins_df['bill_depth_mm']\n",
    "\n",
    "res_x_y = scipy.stats.linregress(x=x, y=y)\n",
    "\n",
    "res_y_x = scipy.stats.linregress(x=y, y=x)\n",
    "\n",
    "print(res_x_y)\n",
    "print(res_y_x)"
   ]
  },
  {
   "cell_type": "code",
   "execution_count": null,
   "metadata": {},
   "outputs": [],
   "source": [
    "sns.scatterplot(x=x, y=y)\n",
    "\n",
    "fx_1 = np.array([x.min(), x.max()])\n",
    "fy_1 = res_x_y.intercept + res_x_y.slope * fx_1\n",
    "\n",
    "plt.plot(fx_1, fy_1)"
   ]
  },
  {
   "cell_type": "code",
   "execution_count": null,
   "metadata": {},
   "outputs": [],
   "source": [
    "sns.scatterplot(x=y, y=x)\n",
    "\n",
    "fx_2 = np.array([y.min(), y.max()])\n",
    "fy_2 = res_y_x.intercept + res_y_x.slope * fx_2\n",
    "\n",
    "plt.plot(fx_2, fy_2)"
   ]
  },
  {
   "cell_type": "code",
   "execution_count": null,
   "metadata": {},
   "outputs": [],
   "source": [
    "sns.scatterplot(x=x, y=y)\n",
    "plt.plot(fx_1, fy_1)\n",
    "plt.plot(fy_2, fx_2)"
   ]
  },
  {
   "cell_type": "code",
   "execution_count": null,
   "metadata": {},
   "outputs": [],
   "source": [
    "smf.ols(\n",
    "  formula='bill_length_mm ~ bill_depth_mm',\n",
    "  data=processed_penguins_df\n",
    ").fit().params"
   ]
  },
  {
   "cell_type": "code",
   "execution_count": null,
   "metadata": {},
   "outputs": [],
   "source": [
    "smf.ols(\n",
    "  formula='bill_depth_mm ~ bill_length_mm ',\n",
    "  data=processed_penguins_df\n",
    ").fit().params"
   ]
  },
  {
   "cell_type": "code",
   "execution_count": null,
   "metadata": {},
   "outputs": [],
   "source": [
    "model_1 = smf.ols(\n",
    "  formula='body_mass_g ~ bill_length_mm ',\n",
    "  data=processed_penguins_df\n",
    ").fit()\n",
    "\n",
    "model_1.summary()"
   ]
  },
  {
   "cell_type": "code",
   "execution_count": 752,
   "metadata": {},
   "outputs": [
    {
     "data": {
      "text/html": [
       "<table class=\"simpletable\">\n",
       "<caption>OLS Regression Results</caption>\n",
       "<tr>\n",
       "  <th>Dep. Variable:</th>       <td>body_mass_g</td>   <th>  R-squared:         </th> <td>   0.467</td>\n",
       "</tr>\n",
       "<tr>\n",
       "  <th>Model:</th>                   <td>OLS</td>       <th>  Adj. R-squared:    </th> <td>   0.464</td>\n",
       "</tr>\n",
       "<tr>\n",
       "  <th>Method:</th>             <td>Least Squares</td>  <th>  F-statistic:       </th> <td>   144.8</td>\n",
       "</tr>\n",
       "<tr>\n",
       "  <th>Date:</th>             <td>Tue, 20 Feb 2024</td> <th>  Prob (F-statistic):</th> <td>7.04e-46</td>\n",
       "</tr>\n",
       "<tr>\n",
       "  <th>Time:</th>                 <td>22:36:46</td>     <th>  Log-Likelihood:    </th> <td> -2595.2</td>\n",
       "</tr>\n",
       "<tr>\n",
       "  <th>No. Observations:</th>      <td>   333</td>      <th>  AIC:               </th> <td>   5196.</td>\n",
       "</tr>\n",
       "<tr>\n",
       "  <th>Df Residuals:</th>          <td>   330</td>      <th>  BIC:               </th> <td>   5208.</td>\n",
       "</tr>\n",
       "<tr>\n",
       "  <th>Df Model:</th>              <td>     2</td>      <th>                     </th>     <td> </td>   \n",
       "</tr>\n",
       "<tr>\n",
       "  <th>Covariance Type:</th>      <td>nonrobust</td>    <th>                     </th>     <td> </td>   \n",
       "</tr>\n",
       "</table>\n",
       "<table class=\"simpletable\">\n",
       "<tr>\n",
       "         <td></td>           <th>coef</th>     <th>std err</th>      <th>t</th>      <th>P>|t|</th>  <th>[0.025</th>    <th>0.975]</th>  \n",
       "</tr>\n",
       "<tr>\n",
       "  <th>Intercept</th>      <td> 3413.4519</td> <td>  437.911</td> <td>    7.795</td> <td> 0.000</td> <td> 2552.002</td> <td> 4274.902</td>\n",
       "</tr>\n",
       "<tr>\n",
       "  <th>bill_length_mm</th> <td>   74.8126</td> <td>    6.076</td> <td>   12.313</td> <td> 0.000</td> <td>   62.860</td> <td>   86.765</td>\n",
       "</tr>\n",
       "<tr>\n",
       "  <th>bill_depth_mm</th>  <td> -145.5072</td> <td>   16.873</td> <td>   -8.624</td> <td> 0.000</td> <td> -178.699</td> <td> -112.315</td>\n",
       "</tr>\n",
       "</table>\n",
       "<table class=\"simpletable\">\n",
       "<tr>\n",
       "  <th>Omnibus:</th>       <td> 2.839</td> <th>  Durbin-Watson:     </th> <td>   1.798</td>\n",
       "</tr>\n",
       "<tr>\n",
       "  <th>Prob(Omnibus):</th> <td> 0.242</td> <th>  Jarque-Bera (JB):  </th> <td>   2.175</td>\n",
       "</tr>\n",
       "<tr>\n",
       "  <th>Skew:</th>          <td>-0.000</td> <th>  Prob(JB):          </th> <td>   0.337</td>\n",
       "</tr>\n",
       "<tr>\n",
       "  <th>Kurtosis:</th>      <td> 2.604</td> <th>  Cond. No.          </th> <td>    644.</td>\n",
       "</tr>\n",
       "</table><br/><br/>Notes:<br/>[1] Standard Errors assume that the covariance matrix of the errors is correctly specified."
      ],
      "text/latex": [
       "\\begin{center}\n",
       "\\begin{tabular}{lclc}\n",
       "\\toprule\n",
       "\\textbf{Dep. Variable:}    &  body\\_mass\\_g   & \\textbf{  R-squared:         } &     0.467   \\\\\n",
       "\\textbf{Model:}            &       OLS        & \\textbf{  Adj. R-squared:    } &     0.464   \\\\\n",
       "\\textbf{Method:}           &  Least Squares   & \\textbf{  F-statistic:       } &     144.8   \\\\\n",
       "\\textbf{Date:}             & Tue, 20 Feb 2024 & \\textbf{  Prob (F-statistic):} &  7.04e-46   \\\\\n",
       "\\textbf{Time:}             &     22:36:46     & \\textbf{  Log-Likelihood:    } &   -2595.2   \\\\\n",
       "\\textbf{No. Observations:} &         333      & \\textbf{  AIC:               } &     5196.   \\\\\n",
       "\\textbf{Df Residuals:}     &         330      & \\textbf{  BIC:               } &     5208.   \\\\\n",
       "\\textbf{Df Model:}         &           2      & \\textbf{                     } &             \\\\\n",
       "\\textbf{Covariance Type:}  &    nonrobust     & \\textbf{                     } &             \\\\\n",
       "\\bottomrule\n",
       "\\end{tabular}\n",
       "\\begin{tabular}{lcccccc}\n",
       "                          & \\textbf{coef} & \\textbf{std err} & \\textbf{t} & \\textbf{P$> |$t$|$} & \\textbf{[0.025} & \\textbf{0.975]}  \\\\\n",
       "\\midrule\n",
       "\\textbf{Intercept}        &    3413.4519  &      437.911     &     7.795  &         0.000        &     2552.002    &     4274.902     \\\\\n",
       "\\textbf{bill\\_length\\_mm} &      74.8126  &        6.076     &    12.313  &         0.000        &       62.860    &       86.765     \\\\\n",
       "\\textbf{bill\\_depth\\_mm}  &    -145.5072  &       16.873     &    -8.624  &         0.000        &     -178.699    &     -112.315     \\\\\n",
       "\\bottomrule\n",
       "\\end{tabular}\n",
       "\\begin{tabular}{lclc}\n",
       "\\textbf{Omnibus:}       &  2.839 & \\textbf{  Durbin-Watson:     } &    1.798  \\\\\n",
       "\\textbf{Prob(Omnibus):} &  0.242 & \\textbf{  Jarque-Bera (JB):  } &    2.175  \\\\\n",
       "\\textbf{Skew:}          & -0.000 & \\textbf{  Prob(JB):          } &    0.337  \\\\\n",
       "\\textbf{Kurtosis:}      &  2.604 & \\textbf{  Cond. No.          } &     644.  \\\\\n",
       "\\bottomrule\n",
       "\\end{tabular}\n",
       "%\\caption{OLS Regression Results}\n",
       "\\end{center}\n",
       "\n",
       "Notes: \\newline\n",
       " [1] Standard Errors assume that the covariance matrix of the errors is correctly specified."
      ],
      "text/plain": [
       "<class 'statsmodels.iolib.summary.Summary'>\n",
       "\"\"\"\n",
       "                            OLS Regression Results                            \n",
       "==============================================================================\n",
       "Dep. Variable:            body_mass_g   R-squared:                       0.467\n",
       "Model:                            OLS   Adj. R-squared:                  0.464\n",
       "Method:                 Least Squares   F-statistic:                     144.8\n",
       "Date:                Tue, 20 Feb 2024   Prob (F-statistic):           7.04e-46\n",
       "Time:                        22:36:46   Log-Likelihood:                -2595.2\n",
       "No. Observations:                 333   AIC:                             5196.\n",
       "Df Residuals:                     330   BIC:                             5208.\n",
       "Df Model:                           2                                         \n",
       "Covariance Type:            nonrobust                                         \n",
       "==================================================================================\n",
       "                     coef    std err          t      P>|t|      [0.025      0.975]\n",
       "----------------------------------------------------------------------------------\n",
       "Intercept       3413.4519    437.911      7.795      0.000    2552.002    4274.902\n",
       "bill_length_mm    74.8126      6.076     12.313      0.000      62.860      86.765\n",
       "bill_depth_mm   -145.5072     16.873     -8.624      0.000    -178.699    -112.315\n",
       "==============================================================================\n",
       "Omnibus:                        2.839   Durbin-Watson:                   1.798\n",
       "Prob(Omnibus):                  0.242   Jarque-Bera (JB):                2.175\n",
       "Skew:                          -0.000   Prob(JB):                        0.337\n",
       "Kurtosis:                       2.604   Cond. No.                         644.\n",
       "==============================================================================\n",
       "\n",
       "Notes:\n",
       "[1] Standard Errors assume that the covariance matrix of the errors is correctly specified.\n",
       "\"\"\""
      ]
     },
     "execution_count": 752,
     "metadata": {},
     "output_type": "execute_result"
    }
   ],
   "source": [
    "model_2 = smf.ols(\n",
    "  formula='body_mass_g ~ bill_length_mm + bill_depth_mm ',\n",
    "  data=processed_penguins_df\n",
    ").fit()\n",
    "\n",
    "model_2.summary()"
   ]
  },
  {
   "cell_type": "code",
   "execution_count": 754,
   "metadata": {},
   "outputs": [
    {
     "data": {
      "text/html": [
       "<table class=\"simpletable\">\n",
       "<caption>OLS Regression Results</caption>\n",
       "<tr>\n",
       "  <th>Dep. Variable:</th>       <td>body_mass_g</td>   <th>  R-squared:         </th> <td>   0.764</td> \n",
       "</tr>\n",
       "<tr>\n",
       "  <th>Model:</th>                   <td>OLS</td>       <th>  Adj. R-squared:    </th> <td>   0.762</td> \n",
       "</tr>\n",
       "<tr>\n",
       "  <th>Method:</th>             <td>Least Squares</td>  <th>  F-statistic:       </th> <td>   354.9</td> \n",
       "</tr>\n",
       "<tr>\n",
       "  <th>Date:</th>             <td>Tue, 20 Feb 2024</td> <th>  Prob (F-statistic):</th> <td>9.26e-103</td>\n",
       "</tr>\n",
       "<tr>\n",
       "  <th>Time:</th>                 <td>22:37:19</td>     <th>  Log-Likelihood:    </th> <td> -2459.8</td> \n",
       "</tr>\n",
       "<tr>\n",
       "  <th>No. Observations:</th>      <td>   333</td>      <th>  AIC:               </th> <td>   4928.</td> \n",
       "</tr>\n",
       "<tr>\n",
       "  <th>Df Residuals:</th>          <td>   329</td>      <th>  BIC:               </th> <td>   4943.</td> \n",
       "</tr>\n",
       "<tr>\n",
       "  <th>Df Model:</th>              <td>     3</td>      <th>                     </th>     <td> </td>    \n",
       "</tr>\n",
       "<tr>\n",
       "  <th>Covariance Type:</th>      <td>nonrobust</td>    <th>                     </th>     <td> </td>    \n",
       "</tr>\n",
       "</table>\n",
       "<table class=\"simpletable\">\n",
       "<tr>\n",
       "          <td></td>             <th>coef</th>     <th>std err</th>      <th>t</th>      <th>P>|t|</th>  <th>[0.025</th>    <th>0.975]</th>  \n",
       "</tr>\n",
       "<tr>\n",
       "  <th>Intercept</th>         <td>-6445.4760</td> <td>  566.130</td> <td>  -11.385</td> <td> 0.000</td> <td>-7559.167</td> <td>-5331.785</td>\n",
       "</tr>\n",
       "<tr>\n",
       "  <th>bill_length_mm</th>    <td>    3.2929</td> <td>    5.366</td> <td>    0.614</td> <td> 0.540</td> <td>   -7.263</td> <td>   13.849</td>\n",
       "</tr>\n",
       "<tr>\n",
       "  <th>bill_depth_mm</th>     <td>   17.8364</td> <td>   13.826</td> <td>    1.290</td> <td> 0.198</td> <td>   -9.362</td> <td>   45.035</td>\n",
       "</tr>\n",
       "<tr>\n",
       "  <th>flipper_length_mm</th> <td>   50.7621</td> <td>    2.497</td> <td>   20.327</td> <td> 0.000</td> <td>   45.850</td> <td>   55.675</td>\n",
       "</tr>\n",
       "</table>\n",
       "<table class=\"simpletable\">\n",
       "<tr>\n",
       "  <th>Omnibus:</th>       <td> 5.596</td> <th>  Durbin-Watson:     </th> <td>   1.982</td>\n",
       "</tr>\n",
       "<tr>\n",
       "  <th>Prob(Omnibus):</th> <td> 0.061</td> <th>  Jarque-Bera (JB):  </th> <td>   5.469</td>\n",
       "</tr>\n",
       "<tr>\n",
       "  <th>Skew:</th>          <td> 0.312</td> <th>  Prob(JB):          </th> <td>  0.0649</td>\n",
       "</tr>\n",
       "<tr>\n",
       "  <th>Kurtosis:</th>      <td> 3.068</td> <th>  Cond. No.          </th> <td>5.44e+03</td>\n",
       "</tr>\n",
       "</table><br/><br/>Notes:<br/>[1] Standard Errors assume that the covariance matrix of the errors is correctly specified.<br/>[2] The condition number is large, 5.44e+03. This might indicate that there are<br/>strong multicollinearity or other numerical problems."
      ],
      "text/latex": [
       "\\begin{center}\n",
       "\\begin{tabular}{lclc}\n",
       "\\toprule\n",
       "\\textbf{Dep. Variable:}      &  body\\_mass\\_g   & \\textbf{  R-squared:         } &     0.764   \\\\\n",
       "\\textbf{Model:}              &       OLS        & \\textbf{  Adj. R-squared:    } &     0.762   \\\\\n",
       "\\textbf{Method:}             &  Least Squares   & \\textbf{  F-statistic:       } &     354.9   \\\\\n",
       "\\textbf{Date:}               & Tue, 20 Feb 2024 & \\textbf{  Prob (F-statistic):} & 9.26e-103   \\\\\n",
       "\\textbf{Time:}               &     22:37:19     & \\textbf{  Log-Likelihood:    } &   -2459.8   \\\\\n",
       "\\textbf{No. Observations:}   &         333      & \\textbf{  AIC:               } &     4928.   \\\\\n",
       "\\textbf{Df Residuals:}       &         329      & \\textbf{  BIC:               } &     4943.   \\\\\n",
       "\\textbf{Df Model:}           &           3      & \\textbf{                     } &             \\\\\n",
       "\\textbf{Covariance Type:}    &    nonrobust     & \\textbf{                     } &             \\\\\n",
       "\\bottomrule\n",
       "\\end{tabular}\n",
       "\\begin{tabular}{lcccccc}\n",
       "                             & \\textbf{coef} & \\textbf{std err} & \\textbf{t} & \\textbf{P$> |$t$|$} & \\textbf{[0.025} & \\textbf{0.975]}  \\\\\n",
       "\\midrule\n",
       "\\textbf{Intercept}           &   -6445.4760  &      566.130     &   -11.385  &         0.000        &    -7559.167    &    -5331.785     \\\\\n",
       "\\textbf{bill\\_length\\_mm}    &       3.2929  &        5.366     &     0.614  &         0.540        &       -7.263    &       13.849     \\\\\n",
       "\\textbf{bill\\_depth\\_mm}     &      17.8364  &       13.826     &     1.290  &         0.198        &       -9.362    &       45.035     \\\\\n",
       "\\textbf{flipper\\_length\\_mm} &      50.7621  &        2.497     &    20.327  &         0.000        &       45.850    &       55.675     \\\\\n",
       "\\bottomrule\n",
       "\\end{tabular}\n",
       "\\begin{tabular}{lclc}\n",
       "\\textbf{Omnibus:}       &  5.596 & \\textbf{  Durbin-Watson:     } &    1.982  \\\\\n",
       "\\textbf{Prob(Omnibus):} &  0.061 & \\textbf{  Jarque-Bera (JB):  } &    5.469  \\\\\n",
       "\\textbf{Skew:}          &  0.312 & \\textbf{  Prob(JB):          } &   0.0649  \\\\\n",
       "\\textbf{Kurtosis:}      &  3.068 & \\textbf{  Cond. No.          } & 5.44e+03  \\\\\n",
       "\\bottomrule\n",
       "\\end{tabular}\n",
       "%\\caption{OLS Regression Results}\n",
       "\\end{center}\n",
       "\n",
       "Notes: \\newline\n",
       " [1] Standard Errors assume that the covariance matrix of the errors is correctly specified. \\newline\n",
       " [2] The condition number is large, 5.44e+03. This might indicate that there are \\newline\n",
       " strong multicollinearity or other numerical problems."
      ],
      "text/plain": [
       "<class 'statsmodels.iolib.summary.Summary'>\n",
       "\"\"\"\n",
       "                            OLS Regression Results                            \n",
       "==============================================================================\n",
       "Dep. Variable:            body_mass_g   R-squared:                       0.764\n",
       "Model:                            OLS   Adj. R-squared:                  0.762\n",
       "Method:                 Least Squares   F-statistic:                     354.9\n",
       "Date:                Tue, 20 Feb 2024   Prob (F-statistic):          9.26e-103\n",
       "Time:                        22:37:19   Log-Likelihood:                -2459.8\n",
       "No. Observations:                 333   AIC:                             4928.\n",
       "Df Residuals:                     329   BIC:                             4943.\n",
       "Df Model:                           3                                         \n",
       "Covariance Type:            nonrobust                                         \n",
       "=====================================================================================\n",
       "                        coef    std err          t      P>|t|      [0.025      0.975]\n",
       "-------------------------------------------------------------------------------------\n",
       "Intercept         -6445.4760    566.130    -11.385      0.000   -7559.167   -5331.785\n",
       "bill_length_mm        3.2929      5.366      0.614      0.540      -7.263      13.849\n",
       "bill_depth_mm        17.8364     13.826      1.290      0.198      -9.362      45.035\n",
       "flipper_length_mm    50.7621      2.497     20.327      0.000      45.850      55.675\n",
       "==============================================================================\n",
       "Omnibus:                        5.596   Durbin-Watson:                   1.982\n",
       "Prob(Omnibus):                  0.061   Jarque-Bera (JB):                5.469\n",
       "Skew:                           0.312   Prob(JB):                       0.0649\n",
       "Kurtosis:                       3.068   Cond. No.                     5.44e+03\n",
       "==============================================================================\n",
       "\n",
       "Notes:\n",
       "[1] Standard Errors assume that the covariance matrix of the errors is correctly specified.\n",
       "[2] The condition number is large, 5.44e+03. This might indicate that there are\n",
       "strong multicollinearity or other numerical problems.\n",
       "\"\"\""
      ]
     },
     "execution_count": 754,
     "metadata": {},
     "output_type": "execute_result"
    }
   ],
   "source": [
    "model_3 = (\n",
    "    smf.ols(\n",
    "        formula='body_mass_g ~ bill_length_mm + bill_depth_mm + flipper_length_mm',\n",
    "        data=processed_penguins_df\n",
    "    )\n",
    "    .fit()\n",
    ")\n",
    "\n",
    "model_3.summary()"
   ]
  },
  {
   "cell_type": "code",
   "execution_count": 755,
   "metadata": {},
   "outputs": [
    {
     "data": {
      "text/html": [
       "<table class=\"simpletable\">\n",
       "<caption>OLS Regression Results</caption>\n",
       "<tr>\n",
       "  <th>Dep. Variable:</th>       <td>body_mass_g</td>   <th>  R-squared:         </th> <td>   0.823</td> \n",
       "</tr>\n",
       "<tr>\n",
       "  <th>Model:</th>                   <td>OLS</td>       <th>  Adj. R-squared:    </th> <td>   0.821</td> \n",
       "</tr>\n",
       "<tr>\n",
       "  <th>Method:</th>             <td>Least Squares</td>  <th>  F-statistic:       </th> <td>   381.3</td> \n",
       "</tr>\n",
       "<tr>\n",
       "  <th>Date:</th>             <td>Tue, 20 Feb 2024</td> <th>  Prob (F-statistic):</th> <td>6.28e-122</td>\n",
       "</tr>\n",
       "<tr>\n",
       "  <th>Time:</th>                 <td>22:37:55</td>     <th>  Log-Likelihood:    </th> <td> -2411.8</td> \n",
       "</tr>\n",
       "<tr>\n",
       "  <th>No. Observations:</th>      <td>   333</td>      <th>  AIC:               </th> <td>   4834.</td> \n",
       "</tr>\n",
       "<tr>\n",
       "  <th>Df Residuals:</th>          <td>   328</td>      <th>  BIC:               </th> <td>   4853.</td> \n",
       "</tr>\n",
       "<tr>\n",
       "  <th>Df Model:</th>              <td>     4</td>      <th>                     </th>     <td> </td>    \n",
       "</tr>\n",
       "<tr>\n",
       "  <th>Covariance Type:</th>      <td>nonrobust</td>    <th>                     </th>     <td> </td>    \n",
       "</tr>\n",
       "</table>\n",
       "<table class=\"simpletable\">\n",
       "<tr>\n",
       "          <td></td>             <th>coef</th>     <th>std err</th>      <th>t</th>      <th>P>|t|</th>  <th>[0.025</th>    <th>0.975]</th>  \n",
       "</tr>\n",
       "<tr>\n",
       "  <th>Intercept</th>         <td>-2288.4650</td> <td>  631.580</td> <td>   -3.623</td> <td> 0.000</td> <td>-3530.924</td> <td>-1046.006</td>\n",
       "</tr>\n",
       "<tr>\n",
       "  <th>C(sex)[T.male]</th>    <td>  541.0285</td> <td>   51.710</td> <td>   10.463</td> <td> 0.000</td> <td>  439.304</td> <td>  642.753</td>\n",
       "</tr>\n",
       "<tr>\n",
       "  <th>bill_length_mm</th>    <td>   -2.3287</td> <td>    4.684</td> <td>   -0.497</td> <td> 0.619</td> <td>  -11.544</td> <td>    6.886</td>\n",
       "</tr>\n",
       "<tr>\n",
       "  <th>bill_depth_mm</th>     <td>  -86.0882</td> <td>   15.570</td> <td>   -5.529</td> <td> 0.000</td> <td> -116.718</td> <td>  -55.459</td>\n",
       "</tr>\n",
       "<tr>\n",
       "  <th>flipper_length_mm</th> <td>   38.8258</td> <td>    2.448</td> <td>   15.862</td> <td> 0.000</td> <td>   34.011</td> <td>   43.641</td>\n",
       "</tr>\n",
       "</table>\n",
       "<table class=\"simpletable\">\n",
       "<tr>\n",
       "  <th>Omnibus:</th>       <td> 2.598</td> <th>  Durbin-Watson:     </th> <td>   1.843</td>\n",
       "</tr>\n",
       "<tr>\n",
       "  <th>Prob(Omnibus):</th> <td> 0.273</td> <th>  Jarque-Bera (JB):  </th> <td>   2.125</td>\n",
       "</tr>\n",
       "<tr>\n",
       "  <th>Skew:</th>          <td> 0.062</td> <th>  Prob(JB):          </th> <td>   0.346</td>\n",
       "</tr>\n",
       "<tr>\n",
       "  <th>Kurtosis:</th>      <td> 2.629</td> <th>  Cond. No.          </th> <td>7.01e+03</td>\n",
       "</tr>\n",
       "</table><br/><br/>Notes:<br/>[1] Standard Errors assume that the covariance matrix of the errors is correctly specified.<br/>[2] The condition number is large, 7.01e+03. This might indicate that there are<br/>strong multicollinearity or other numerical problems."
      ],
      "text/latex": [
       "\\begin{center}\n",
       "\\begin{tabular}{lclc}\n",
       "\\toprule\n",
       "\\textbf{Dep. Variable:}      &  body\\_mass\\_g   & \\textbf{  R-squared:         } &     0.823   \\\\\n",
       "\\textbf{Model:}              &       OLS        & \\textbf{  Adj. R-squared:    } &     0.821   \\\\\n",
       "\\textbf{Method:}             &  Least Squares   & \\textbf{  F-statistic:       } &     381.3   \\\\\n",
       "\\textbf{Date:}               & Tue, 20 Feb 2024 & \\textbf{  Prob (F-statistic):} & 6.28e-122   \\\\\n",
       "\\textbf{Time:}               &     22:37:55     & \\textbf{  Log-Likelihood:    } &   -2411.8   \\\\\n",
       "\\textbf{No. Observations:}   &         333      & \\textbf{  AIC:               } &     4834.   \\\\\n",
       "\\textbf{Df Residuals:}       &         328      & \\textbf{  BIC:               } &     4853.   \\\\\n",
       "\\textbf{Df Model:}           &           4      & \\textbf{                     } &             \\\\\n",
       "\\textbf{Covariance Type:}    &    nonrobust     & \\textbf{                     } &             \\\\\n",
       "\\bottomrule\n",
       "\\end{tabular}\n",
       "\\begin{tabular}{lcccccc}\n",
       "                             & \\textbf{coef} & \\textbf{std err} & \\textbf{t} & \\textbf{P$> |$t$|$} & \\textbf{[0.025} & \\textbf{0.975]}  \\\\\n",
       "\\midrule\n",
       "\\textbf{Intercept}           &   -2288.4650  &      631.580     &    -3.623  &         0.000        &    -3530.924    &    -1046.006     \\\\\n",
       "\\textbf{C(sex)[T.male]}      &     541.0285  &       51.710     &    10.463  &         0.000        &      439.304    &      642.753     \\\\\n",
       "\\textbf{bill\\_length\\_mm}    &      -2.3287  &        4.684     &    -0.497  &         0.619        &      -11.544    &        6.886     \\\\\n",
       "\\textbf{bill\\_depth\\_mm}     &     -86.0882  &       15.570     &    -5.529  &         0.000        &     -116.718    &      -55.459     \\\\\n",
       "\\textbf{flipper\\_length\\_mm} &      38.8258  &        2.448     &    15.862  &         0.000        &       34.011    &       43.641     \\\\\n",
       "\\bottomrule\n",
       "\\end{tabular}\n",
       "\\begin{tabular}{lclc}\n",
       "\\textbf{Omnibus:}       &  2.598 & \\textbf{  Durbin-Watson:     } &    1.843  \\\\\n",
       "\\textbf{Prob(Omnibus):} &  0.273 & \\textbf{  Jarque-Bera (JB):  } &    2.125  \\\\\n",
       "\\textbf{Skew:}          &  0.062 & \\textbf{  Prob(JB):          } &    0.346  \\\\\n",
       "\\textbf{Kurtosis:}      &  2.629 & \\textbf{  Cond. No.          } & 7.01e+03  \\\\\n",
       "\\bottomrule\n",
       "\\end{tabular}\n",
       "%\\caption{OLS Regression Results}\n",
       "\\end{center}\n",
       "\n",
       "Notes: \\newline\n",
       " [1] Standard Errors assume that the covariance matrix of the errors is correctly specified. \\newline\n",
       " [2] The condition number is large, 7.01e+03. This might indicate that there are \\newline\n",
       " strong multicollinearity or other numerical problems."
      ],
      "text/plain": [
       "<class 'statsmodels.iolib.summary.Summary'>\n",
       "\"\"\"\n",
       "                            OLS Regression Results                            \n",
       "==============================================================================\n",
       "Dep. Variable:            body_mass_g   R-squared:                       0.823\n",
       "Model:                            OLS   Adj. R-squared:                  0.821\n",
       "Method:                 Least Squares   F-statistic:                     381.3\n",
       "Date:                Tue, 20 Feb 2024   Prob (F-statistic):          6.28e-122\n",
       "Time:                        22:37:55   Log-Likelihood:                -2411.8\n",
       "No. Observations:                 333   AIC:                             4834.\n",
       "Df Residuals:                     328   BIC:                             4853.\n",
       "Df Model:                           4                                         \n",
       "Covariance Type:            nonrobust                                         \n",
       "=====================================================================================\n",
       "                        coef    std err          t      P>|t|      [0.025      0.975]\n",
       "-------------------------------------------------------------------------------------\n",
       "Intercept         -2288.4650    631.580     -3.623      0.000   -3530.924   -1046.006\n",
       "C(sex)[T.male]      541.0285     51.710     10.463      0.000     439.304     642.753\n",
       "bill_length_mm       -2.3287      4.684     -0.497      0.619     -11.544       6.886\n",
       "bill_depth_mm       -86.0882     15.570     -5.529      0.000    -116.718     -55.459\n",
       "flipper_length_mm    38.8258      2.448     15.862      0.000      34.011      43.641\n",
       "==============================================================================\n",
       "Omnibus:                        2.598   Durbin-Watson:                   1.843\n",
       "Prob(Omnibus):                  0.273   Jarque-Bera (JB):                2.125\n",
       "Skew:                           0.062   Prob(JB):                        0.346\n",
       "Kurtosis:                       2.629   Cond. No.                     7.01e+03\n",
       "==============================================================================\n",
       "\n",
       "Notes:\n",
       "[1] Standard Errors assume that the covariance matrix of the errors is correctly specified.\n",
       "[2] The condition number is large, 7.01e+03. This might indicate that there are\n",
       "strong multicollinearity or other numerical problems.\n",
       "\"\"\""
      ]
     },
     "execution_count": 755,
     "metadata": {},
     "output_type": "execute_result"
    }
   ],
   "source": [
    "model_4 = (\n",
    "    smf.ols(\n",
    "        formula='body_mass_g ~ bill_length_mm + bill_depth_mm + flipper_length_mm + C(sex)',\n",
    "        data=processed_penguins_df\n",
    "    )\n",
    "    .fit()\n",
    ")\n",
    "\n",
    "model_4.summary()"
   ]
  },
  {
   "cell_type": "code",
   "execution_count": 757,
   "metadata": {},
   "outputs": [
    {
     "data": {
      "text/html": [
       "<table class=\"simpletable\">\n",
       "<caption>OLS Regression Results</caption>\n",
       "<tr>\n",
       "  <th>Dep. Variable:</th>       <td>body_mass_g</td>   <th>  R-squared:         </th> <td>   0.806</td> \n",
       "</tr>\n",
       "<tr>\n",
       "  <th>Model:</th>                   <td>OLS</td>       <th>  Adj. R-squared:    </th> <td>   0.805</td> \n",
       "</tr>\n",
       "<tr>\n",
       "  <th>Method:</th>             <td>Least Squares</td>  <th>  F-statistic:       </th> <td>   684.8</td> \n",
       "</tr>\n",
       "<tr>\n",
       "  <th>Date:</th>             <td>Tue, 20 Feb 2024</td> <th>  Prob (F-statistic):</th> <td>3.53e-118</td>\n",
       "</tr>\n",
       "<tr>\n",
       "  <th>Time:</th>                 <td>22:39:22</td>     <th>  Log-Likelihood:    </th> <td> -2427.2</td> \n",
       "</tr>\n",
       "<tr>\n",
       "  <th>No. Observations:</th>      <td>   333</td>      <th>  AIC:               </th> <td>   4860.</td> \n",
       "</tr>\n",
       "<tr>\n",
       "  <th>Df Residuals:</th>          <td>   330</td>      <th>  BIC:               </th> <td>   4872.</td> \n",
       "</tr>\n",
       "<tr>\n",
       "  <th>Df Model:</th>              <td>     2</td>      <th>                     </th>     <td> </td>    \n",
       "</tr>\n",
       "<tr>\n",
       "  <th>Covariance Type:</th>      <td>nonrobust</td>    <th>                     </th>     <td> </td>    \n",
       "</tr>\n",
       "</table>\n",
       "<table class=\"simpletable\">\n",
       "<tr>\n",
       "          <td></td>             <th>coef</th>     <th>std err</th>      <th>t</th>      <th>P>|t|</th>  <th>[0.025</th>    <th>0.975]</th>  \n",
       "</tr>\n",
       "<tr>\n",
       "  <th>Intercept</th>         <td>-5410.3002</td> <td>  285.798</td> <td>  -18.931</td> <td> 0.000</td> <td>-5972.515</td> <td>-4848.085</td>\n",
       "</tr>\n",
       "<tr>\n",
       "  <th>C(sex)[T.male]</th>    <td>  347.8503</td> <td>   40.342</td> <td>    8.623</td> <td> 0.000</td> <td>  268.491</td> <td>  427.209</td>\n",
       "</tr>\n",
       "<tr>\n",
       "  <th>flipper_length_mm</th> <td>   46.9822</td> <td>    1.441</td> <td>   32.598</td> <td> 0.000</td> <td>   44.147</td> <td>   49.817</td>\n",
       "</tr>\n",
       "</table>\n",
       "<table class=\"simpletable\">\n",
       "<tr>\n",
       "  <th>Omnibus:</th>       <td> 0.262</td> <th>  Durbin-Watson:     </th> <td>   1.710</td>\n",
       "</tr>\n",
       "<tr>\n",
       "  <th>Prob(Omnibus):</th> <td> 0.877</td> <th>  Jarque-Bera (JB):  </th> <td>   0.376</td>\n",
       "</tr>\n",
       "<tr>\n",
       "  <th>Skew:</th>          <td> 0.051</td> <th>  Prob(JB):          </th> <td>   0.829</td>\n",
       "</tr>\n",
       "<tr>\n",
       "  <th>Kurtosis:</th>      <td> 2.870</td> <th>  Cond. No.          </th> <td>2.95e+03</td>\n",
       "</tr>\n",
       "</table><br/><br/>Notes:<br/>[1] Standard Errors assume that the covariance matrix of the errors is correctly specified.<br/>[2] The condition number is large, 2.95e+03. This might indicate that there are<br/>strong multicollinearity or other numerical problems."
      ],
      "text/latex": [
       "\\begin{center}\n",
       "\\begin{tabular}{lclc}\n",
       "\\toprule\n",
       "\\textbf{Dep. Variable:}      &  body\\_mass\\_g   & \\textbf{  R-squared:         } &     0.806   \\\\\n",
       "\\textbf{Model:}              &       OLS        & \\textbf{  Adj. R-squared:    } &     0.805   \\\\\n",
       "\\textbf{Method:}             &  Least Squares   & \\textbf{  F-statistic:       } &     684.8   \\\\\n",
       "\\textbf{Date:}               & Tue, 20 Feb 2024 & \\textbf{  Prob (F-statistic):} & 3.53e-118   \\\\\n",
       "\\textbf{Time:}               &     22:39:22     & \\textbf{  Log-Likelihood:    } &   -2427.2   \\\\\n",
       "\\textbf{No. Observations:}   &         333      & \\textbf{  AIC:               } &     4860.   \\\\\n",
       "\\textbf{Df Residuals:}       &         330      & \\textbf{  BIC:               } &     4872.   \\\\\n",
       "\\textbf{Df Model:}           &           2      & \\textbf{                     } &             \\\\\n",
       "\\textbf{Covariance Type:}    &    nonrobust     & \\textbf{                     } &             \\\\\n",
       "\\bottomrule\n",
       "\\end{tabular}\n",
       "\\begin{tabular}{lcccccc}\n",
       "                             & \\textbf{coef} & \\textbf{std err} & \\textbf{t} & \\textbf{P$> |$t$|$} & \\textbf{[0.025} & \\textbf{0.975]}  \\\\\n",
       "\\midrule\n",
       "\\textbf{Intercept}           &   -5410.3002  &      285.798     &   -18.931  &         0.000        &    -5972.515    &    -4848.085     \\\\\n",
       "\\textbf{C(sex)[T.male]}      &     347.8503  &       40.342     &     8.623  &         0.000        &      268.491    &      427.209     \\\\\n",
       "\\textbf{flipper\\_length\\_mm} &      46.9822  &        1.441     &    32.598  &         0.000        &       44.147    &       49.817     \\\\\n",
       "\\bottomrule\n",
       "\\end{tabular}\n",
       "\\begin{tabular}{lclc}\n",
       "\\textbf{Omnibus:}       &  0.262 & \\textbf{  Durbin-Watson:     } &    1.710  \\\\\n",
       "\\textbf{Prob(Omnibus):} &  0.877 & \\textbf{  Jarque-Bera (JB):  } &    0.376  \\\\\n",
       "\\textbf{Skew:}          &  0.051 & \\textbf{  Prob(JB):          } &    0.829  \\\\\n",
       "\\textbf{Kurtosis:}      &  2.870 & \\textbf{  Cond. No.          } & 2.95e+03  \\\\\n",
       "\\bottomrule\n",
       "\\end{tabular}\n",
       "%\\caption{OLS Regression Results}\n",
       "\\end{center}\n",
       "\n",
       "Notes: \\newline\n",
       " [1] Standard Errors assume that the covariance matrix of the errors is correctly specified. \\newline\n",
       " [2] The condition number is large, 2.95e+03. This might indicate that there are \\newline\n",
       " strong multicollinearity or other numerical problems."
      ],
      "text/plain": [
       "<class 'statsmodels.iolib.summary.Summary'>\n",
       "\"\"\"\n",
       "                            OLS Regression Results                            \n",
       "==============================================================================\n",
       "Dep. Variable:            body_mass_g   R-squared:                       0.806\n",
       "Model:                            OLS   Adj. R-squared:                  0.805\n",
       "Method:                 Least Squares   F-statistic:                     684.8\n",
       "Date:                Tue, 20 Feb 2024   Prob (F-statistic):          3.53e-118\n",
       "Time:                        22:39:22   Log-Likelihood:                -2427.2\n",
       "No. Observations:                 333   AIC:                             4860.\n",
       "Df Residuals:                     330   BIC:                             4872.\n",
       "Df Model:                           2                                         \n",
       "Covariance Type:            nonrobust                                         \n",
       "=====================================================================================\n",
       "                        coef    std err          t      P>|t|      [0.025      0.975]\n",
       "-------------------------------------------------------------------------------------\n",
       "Intercept         -5410.3002    285.798    -18.931      0.000   -5972.515   -4848.085\n",
       "C(sex)[T.male]      347.8503     40.342      8.623      0.000     268.491     427.209\n",
       "flipper_length_mm    46.9822      1.441     32.598      0.000      44.147      49.817\n",
       "==============================================================================\n",
       "Omnibus:                        0.262   Durbin-Watson:                   1.710\n",
       "Prob(Omnibus):                  0.877   Jarque-Bera (JB):                0.376\n",
       "Skew:                           0.051   Prob(JB):                        0.829\n",
       "Kurtosis:                       2.870   Cond. No.                     2.95e+03\n",
       "==============================================================================\n",
       "\n",
       "Notes:\n",
       "[1] Standard Errors assume that the covariance matrix of the errors is correctly specified.\n",
       "[2] The condition number is large, 2.95e+03. This might indicate that there are\n",
       "strong multicollinearity or other numerical problems.\n",
       "\"\"\""
      ]
     },
     "execution_count": 757,
     "metadata": {},
     "output_type": "execute_result"
    }
   ],
   "source": [
    "model_5 = (\n",
    "    smf.ols(\n",
    "        formula='body_mass_g ~ flipper_length_mm + C(sex)',\n",
    "        data=processed_penguins_df\n",
    "    )\n",
    "    .fit()\n",
    ")\n",
    "\n",
    "model_5.summary()"
   ]
  },
  {
   "cell_type": "code",
   "execution_count": 758,
   "metadata": {},
   "outputs": [
    {
     "data": {
      "text/html": [
       "<table class=\"simpletable\">\n",
       "<caption>OLS Regression Results</caption>\n",
       "<tr>\n",
       "  <th>Dep. Variable:</th>       <td>body_mass_g</td>   <th>  R-squared:         </th> <td>   0.867</td> \n",
       "</tr>\n",
       "<tr>\n",
       "  <th>Model:</th>                   <td>OLS</td>       <th>  Adj. R-squared:    </th> <td>   0.865</td> \n",
       "</tr>\n",
       "<tr>\n",
       "  <th>Method:</th>             <td>Least Squares</td>  <th>  F-statistic:       </th> <td>   534.0</td> \n",
       "</tr>\n",
       "<tr>\n",
       "  <th>Date:</th>             <td>Tue, 20 Feb 2024</td> <th>  Prob (F-statistic):</th> <td>3.37e-142</td>\n",
       "</tr>\n",
       "<tr>\n",
       "  <th>Time:</th>                 <td>22:40:27</td>     <th>  Log-Likelihood:    </th> <td> -2364.4</td> \n",
       "</tr>\n",
       "<tr>\n",
       "  <th>No. Observations:</th>      <td>   333</td>      <th>  AIC:               </th> <td>   4739.</td> \n",
       "</tr>\n",
       "<tr>\n",
       "  <th>Df Residuals:</th>          <td>   328</td>      <th>  BIC:               </th> <td>   4758.</td> \n",
       "</tr>\n",
       "<tr>\n",
       "  <th>Df Model:</th>              <td>     4</td>      <th>                     </th>     <td> </td>    \n",
       "</tr>\n",
       "<tr>\n",
       "  <th>Covariance Type:</th>      <td>nonrobust</td>    <th>                     </th>     <td> </td>    \n",
       "</tr>\n",
       "</table>\n",
       "<table class=\"simpletable\">\n",
       "<tr>\n",
       "             <td></td>                <th>coef</th>     <th>std err</th>      <th>t</th>      <th>P>|t|</th>  <th>[0.025</th>    <th>0.975]</th>  \n",
       "</tr>\n",
       "<tr>\n",
       "  <th>Intercept</th>               <td> -365.8174</td> <td>  532.050</td> <td>   -0.688</td> <td> 0.492</td> <td>-1412.479</td> <td>  680.844</td>\n",
       "</tr>\n",
       "<tr>\n",
       "  <th>C(sex)[T.male]</th>          <td>  530.3811</td> <td>   37.810</td> <td>   14.027</td> <td> 0.000</td> <td>  456.000</td> <td>  604.762</td>\n",
       "</tr>\n",
       "<tr>\n",
       "  <th>C(species)[T.Chinstrap]</th> <td>  -87.6345</td> <td>   46.347</td> <td>   -1.891</td> <td> 0.060</td> <td> -178.810</td> <td>    3.541</td>\n",
       "</tr>\n",
       "<tr>\n",
       "  <th>C(species)[T.Gentoo]</th>    <td>  836.2600</td> <td>   85.185</td> <td>    9.817</td> <td> 0.000</td> <td>  668.681</td> <td> 1003.839</td>\n",
       "</tr>\n",
       "<tr>\n",
       "  <th>flipper_length_mm</th>       <td>   20.0249</td> <td>    2.846</td> <td>    7.037</td> <td> 0.000</td> <td>   14.427</td> <td>   25.623</td>\n",
       "</tr>\n",
       "</table>\n",
       "<table class=\"simpletable\">\n",
       "<tr>\n",
       "  <th>Omnibus:</th>       <td> 1.575</td> <th>  Durbin-Watson:     </th> <td>   2.097</td>\n",
       "</tr>\n",
       "<tr>\n",
       "  <th>Prob(Omnibus):</th> <td> 0.455</td> <th>  Jarque-Bera (JB):  </th> <td>   1.556</td>\n",
       "</tr>\n",
       "<tr>\n",
       "  <th>Skew:</th>          <td> 0.094</td> <th>  Prob(JB):          </th> <td>   0.459</td>\n",
       "</tr>\n",
       "<tr>\n",
       "  <th>Kurtosis:</th>      <td> 2.723</td> <th>  Cond. No.          </th> <td>6.69e+03</td>\n",
       "</tr>\n",
       "</table><br/><br/>Notes:<br/>[1] Standard Errors assume that the covariance matrix of the errors is correctly specified.<br/>[2] The condition number is large, 6.69e+03. This might indicate that there are<br/>strong multicollinearity or other numerical problems."
      ],
      "text/latex": [
       "\\begin{center}\n",
       "\\begin{tabular}{lclc}\n",
       "\\toprule\n",
       "\\textbf{Dep. Variable:}          &  body\\_mass\\_g   & \\textbf{  R-squared:         } &     0.867   \\\\\n",
       "\\textbf{Model:}                  &       OLS        & \\textbf{  Adj. R-squared:    } &     0.865   \\\\\n",
       "\\textbf{Method:}                 &  Least Squares   & \\textbf{  F-statistic:       } &     534.0   \\\\\n",
       "\\textbf{Date:}                   & Tue, 20 Feb 2024 & \\textbf{  Prob (F-statistic):} & 3.37e-142   \\\\\n",
       "\\textbf{Time:}                   &     22:40:27     & \\textbf{  Log-Likelihood:    } &   -2364.4   \\\\\n",
       "\\textbf{No. Observations:}       &         333      & \\textbf{  AIC:               } &     4739.   \\\\\n",
       "\\textbf{Df Residuals:}           &         328      & \\textbf{  BIC:               } &     4758.   \\\\\n",
       "\\textbf{Df Model:}               &           4      & \\textbf{                     } &             \\\\\n",
       "\\textbf{Covariance Type:}        &    nonrobust     & \\textbf{                     } &             \\\\\n",
       "\\bottomrule\n",
       "\\end{tabular}\n",
       "\\begin{tabular}{lcccccc}\n",
       "                                 & \\textbf{coef} & \\textbf{std err} & \\textbf{t} & \\textbf{P$> |$t$|$} & \\textbf{[0.025} & \\textbf{0.975]}  \\\\\n",
       "\\midrule\n",
       "\\textbf{Intercept}               &    -365.8174  &      532.050     &    -0.688  &         0.492        &    -1412.479    &      680.844     \\\\\n",
       "\\textbf{C(sex)[T.male]}          &     530.3811  &       37.810     &    14.027  &         0.000        &      456.000    &      604.762     \\\\\n",
       "\\textbf{C(species)[T.Chinstrap]} &     -87.6345  &       46.347     &    -1.891  &         0.060        &     -178.810    &        3.541     \\\\\n",
       "\\textbf{C(species)[T.Gentoo]}    &     836.2600  &       85.185     &     9.817  &         0.000        &      668.681    &     1003.839     \\\\\n",
       "\\textbf{flipper\\_length\\_mm}     &      20.0249  &        2.846     &     7.037  &         0.000        &       14.427    &       25.623     \\\\\n",
       "\\bottomrule\n",
       "\\end{tabular}\n",
       "\\begin{tabular}{lclc}\n",
       "\\textbf{Omnibus:}       &  1.575 & \\textbf{  Durbin-Watson:     } &    2.097  \\\\\n",
       "\\textbf{Prob(Omnibus):} &  0.455 & \\textbf{  Jarque-Bera (JB):  } &    1.556  \\\\\n",
       "\\textbf{Skew:}          &  0.094 & \\textbf{  Prob(JB):          } &    0.459  \\\\\n",
       "\\textbf{Kurtosis:}      &  2.723 & \\textbf{  Cond. No.          } & 6.69e+03  \\\\\n",
       "\\bottomrule\n",
       "\\end{tabular}\n",
       "%\\caption{OLS Regression Results}\n",
       "\\end{center}\n",
       "\n",
       "Notes: \\newline\n",
       " [1] Standard Errors assume that the covariance matrix of the errors is correctly specified. \\newline\n",
       " [2] The condition number is large, 6.69e+03. This might indicate that there are \\newline\n",
       " strong multicollinearity or other numerical problems."
      ],
      "text/plain": [
       "<class 'statsmodels.iolib.summary.Summary'>\n",
       "\"\"\"\n",
       "                            OLS Regression Results                            \n",
       "==============================================================================\n",
       "Dep. Variable:            body_mass_g   R-squared:                       0.867\n",
       "Model:                            OLS   Adj. R-squared:                  0.865\n",
       "Method:                 Least Squares   F-statistic:                     534.0\n",
       "Date:                Tue, 20 Feb 2024   Prob (F-statistic):          3.37e-142\n",
       "Time:                        22:40:27   Log-Likelihood:                -2364.4\n",
       "No. Observations:                 333   AIC:                             4739.\n",
       "Df Residuals:                     328   BIC:                             4758.\n",
       "Df Model:                           4                                         \n",
       "Covariance Type:            nonrobust                                         \n",
       "===========================================================================================\n",
       "                              coef    std err          t      P>|t|      [0.025      0.975]\n",
       "-------------------------------------------------------------------------------------------\n",
       "Intercept                -365.8174    532.050     -0.688      0.492   -1412.479     680.844\n",
       "C(sex)[T.male]            530.3811     37.810     14.027      0.000     456.000     604.762\n",
       "C(species)[T.Chinstrap]   -87.6345     46.347     -1.891      0.060    -178.810       3.541\n",
       "C(species)[T.Gentoo]      836.2600     85.185      9.817      0.000     668.681    1003.839\n",
       "flipper_length_mm          20.0249      2.846      7.037      0.000      14.427      25.623\n",
       "==============================================================================\n",
       "Omnibus:                        1.575   Durbin-Watson:                   2.097\n",
       "Prob(Omnibus):                  0.455   Jarque-Bera (JB):                1.556\n",
       "Skew:                           0.094   Prob(JB):                        0.459\n",
       "Kurtosis:                       2.723   Cond. No.                     6.69e+03\n",
       "==============================================================================\n",
       "\n",
       "Notes:\n",
       "[1] Standard Errors assume that the covariance matrix of the errors is correctly specified.\n",
       "[2] The condition number is large, 6.69e+03. This might indicate that there are\n",
       "strong multicollinearity or other numerical problems.\n",
       "\"\"\""
      ]
     },
     "execution_count": 758,
     "metadata": {},
     "output_type": "execute_result"
    }
   ],
   "source": [
    "model_6 = (\n",
    "    smf.ols(\n",
    "        formula='body_mass_g ~ flipper_length_mm + C(sex) + C(species)',\n",
    "        data= processed_penguins_df\n",
    "    )\n",
    "    .fit()\n",
    ")\n",
    "model_6.summary()"
   ]
  },
  {
   "cell_type": "code",
   "execution_count": 761,
   "metadata": {},
   "outputs": [
    {
     "data": {
      "text/html": [
       "<div>\n",
       "<style scoped>\n",
       "    .dataframe tbody tr th:only-of-type {\n",
       "        vertical-align: middle;\n",
       "    }\n",
       "\n",
       "    .dataframe tbody tr th {\n",
       "        vertical-align: top;\n",
       "    }\n",
       "\n",
       "    .dataframe thead th {\n",
       "        text-align: right;\n",
       "    }\n",
       "</style>\n",
       "<table border=\"1\" class=\"dataframe\">\n",
       "  <thead>\n",
       "    <tr style=\"text-align: right;\">\n",
       "      <th></th>\n",
       "      <th>actual_value</th>\n",
       "      <th>prediction_model_1</th>\n",
       "      <th>prediction_model_2</th>\n",
       "      <th>prediction_model_3</th>\n",
       "      <th>prediction_model_4</th>\n",
       "      <th>prediction_model_5</th>\n",
       "      <th>species</th>\n",
       "      <th>sex</th>\n",
       "    </tr>\n",
       "  </thead>\n",
       "  <tbody>\n",
       "    <tr>\n",
       "      <th>0</th>\n",
       "      <td>3750.0</td>\n",
       "      <td>3782.402961</td>\n",
       "      <td>3617.641192</td>\n",
       "      <td>3204.761227</td>\n",
       "      <td>3441.323750</td>\n",
       "      <td>3441.323750</td>\n",
       "      <td>Adelie</td>\n",
       "      <td>male</td>\n",
       "    </tr>\n",
       "    <tr>\n",
       "      <th>1</th>\n",
       "      <td>3800.0</td>\n",
       "      <td>3817.119665</td>\n",
       "      <td>3836.725580</td>\n",
       "      <td>3436.701722</td>\n",
       "      <td>3328.384372</td>\n",
       "      <td>3328.384372</td>\n",
       "      <td>Adelie</td>\n",
       "      <td>female</td>\n",
       "    </tr>\n",
       "    <tr>\n",
       "      <th>2</th>\n",
       "      <td>3250.0</td>\n",
       "      <td>3886.553073</td>\n",
       "      <td>3809.271371</td>\n",
       "      <td>3906.897032</td>\n",
       "      <td>3751.223949</td>\n",
       "      <td>3751.223949</td>\n",
       "      <td>Adelie</td>\n",
       "      <td>female</td>\n",
       "    </tr>\n",
       "    <tr>\n",
       "      <th>4</th>\n",
       "      <td>3450.0</td>\n",
       "      <td>3574.102738</td>\n",
       "      <td>3350.786581</td>\n",
       "      <td>3816.705772</td>\n",
       "      <td>3657.259599</td>\n",
       "      <td>3657.259599</td>\n",
       "      <td>Adelie</td>\n",
       "      <td>female</td>\n",
       "    </tr>\n",
       "    <tr>\n",
       "      <th>5</th>\n",
       "      <td>3650.0</td>\n",
       "      <td>3799.761313</td>\n",
       "      <td>3356.140070</td>\n",
       "      <td>3696.168128</td>\n",
       "      <td>3864.163327</td>\n",
       "      <td>3864.163327</td>\n",
       "      <td>Adelie</td>\n",
       "      <td>male</td>\n",
       "    </tr>\n",
       "    <tr>\n",
       "      <th>...</th>\n",
       "      <td>...</td>\n",
       "      <td>...</td>\n",
       "      <td>...</td>\n",
       "      <td>...</td>\n",
       "      <td>...</td>\n",
       "      <td>...</td>\n",
       "      <td>...</td>\n",
       "      <td>...</td>\n",
       "    </tr>\n",
       "    <tr>\n",
       "      <th>339</th>\n",
       "      <td>4000.0</td>\n",
       "      <td>5231.825347</td>\n",
       "      <td>4706.954140</td>\n",
       "      <td>4599.187485</td>\n",
       "      <td>4662.860306</td>\n",
       "      <td>4662.860306</td>\n",
       "      <td>Chinstrap</td>\n",
       "      <td>male</td>\n",
       "    </tr>\n",
       "    <tr>\n",
       "      <th>340</th>\n",
       "      <td>3400.0</td>\n",
       "      <td>4164.286703</td>\n",
       "      <td>4034.121055</td>\n",
       "      <td>4274.552753</td>\n",
       "      <td>4080.099176</td>\n",
       "      <td>4080.099176</td>\n",
       "      <td>Chinstrap</td>\n",
       "      <td>female</td>\n",
       "    </tr>\n",
       "    <tr>\n",
       "      <th>341</th>\n",
       "      <td>3775.0</td>\n",
       "      <td>4693.716437</td>\n",
       "      <td>4475.927353</td>\n",
       "      <td>3839.563668</td>\n",
       "      <td>4005.109853</td>\n",
       "      <td>4005.109853</td>\n",
       "      <td>Chinstrap</td>\n",
       "      <td>male</td>\n",
       "    </tr>\n",
       "    <tr>\n",
       "      <th>342</th>\n",
       "      <td>4100.0</td>\n",
       "      <td>4797.866549</td>\n",
       "      <td>4449.296758</td>\n",
       "      <td>4720.740455</td>\n",
       "      <td>4803.806832</td>\n",
       "      <td>4803.806832</td>\n",
       "      <td>Chinstrap</td>\n",
       "      <td>male</td>\n",
       "    </tr>\n",
       "    <tr>\n",
       "      <th>343</th>\n",
       "      <td>3775.0</td>\n",
       "      <td>4745.791493</td>\n",
       "      <td>4448.061337</td>\n",
       "      <td>4104.268240</td>\n",
       "      <td>3892.170475</td>\n",
       "      <td>3892.170475</td>\n",
       "      <td>Chinstrap</td>\n",
       "      <td>female</td>\n",
       "    </tr>\n",
       "  </tbody>\n",
       "</table>\n",
       "<p>333 rows × 8 columns</p>\n",
       "</div>"
      ],
      "text/plain": [
       "     actual_value  prediction_model_1  prediction_model_2  prediction_model_3  \\\n",
       "0          3750.0         3782.402961         3617.641192         3204.761227   \n",
       "1          3800.0         3817.119665         3836.725580         3436.701722   \n",
       "2          3250.0         3886.553073         3809.271371         3906.897032   \n",
       "4          3450.0         3574.102738         3350.786581         3816.705772   \n",
       "5          3650.0         3799.761313         3356.140070         3696.168128   \n",
       "..            ...                 ...                 ...                 ...   \n",
       "339        4000.0         5231.825347         4706.954140         4599.187485   \n",
       "340        3400.0         4164.286703         4034.121055         4274.552753   \n",
       "341        3775.0         4693.716437         4475.927353         3839.563668   \n",
       "342        4100.0         4797.866549         4449.296758         4720.740455   \n",
       "343        3775.0         4745.791493         4448.061337         4104.268240   \n",
       "\n",
       "     prediction_model_4  prediction_model_5    species     sex  \n",
       "0           3441.323750         3441.323750     Adelie    male  \n",
       "1           3328.384372         3328.384372     Adelie  female  \n",
       "2           3751.223949         3751.223949     Adelie  female  \n",
       "4           3657.259599         3657.259599     Adelie  female  \n",
       "5           3864.163327         3864.163327     Adelie    male  \n",
       "..                  ...                 ...        ...     ...  \n",
       "339         4662.860306         4662.860306  Chinstrap    male  \n",
       "340         4080.099176         4080.099176  Chinstrap  female  \n",
       "341         4005.109853         4005.109853  Chinstrap    male  \n",
       "342         4803.806832         4803.806832  Chinstrap    male  \n",
       "343         3892.170475         3892.170475  Chinstrap  female  \n",
       "\n",
       "[333 rows x 8 columns]"
      ]
     },
     "execution_count": 761,
     "metadata": {},
     "output_type": "execute_result"
    }
   ],
   "source": [
    "models_results = pd.DataFrame(\n",
    "  dict(actual_value = processed_penguins_df['body_mass_g'], \n",
    "      prediction_model_1 = model_1.predict(),\n",
    "      prediction_model_2 = model_2.predict(),\n",
    "      prediction_model_3 = model_3.predict(),\n",
    "      prediction_model_4 = model_4.predict(),\n",
    "      prediction_model_5 = model_5.predict(),\n",
    "      species = processed_penguins_df['species'],\n",
    "      sex=processed_penguins_df['sex'])\n",
    ")\n",
    "models_results"
   ]
  },
  {
   "cell_type": "code",
   "execution_count": 763,
   "metadata": {},
   "outputs": [
    {
     "data": {
      "text/plain": [
       "<Axes: ylabel='Proportion'>"
      ]
     },
     "execution_count": 763,
     "metadata": {},
     "output_type": "execute_result"
    },
    {
     "data": {
      "image/png": "[encoded data removed]",
      "text/plain": [
       "<Figure size 1100x940 with 1 Axes>"
      ]
     },
     "metadata": {},
     "output_type": "display_data"
    }
   ],
   "source": [
    "sns.ecdfplot(data=models_results.select_columns(['actual_value','prediction_model_5']))"
   ]
  },
  {
   "cell_type": "code",
   "execution_count": 765,
   "metadata": {},
   "outputs": [
    {
     "data": {
      "text/plain": [
       "<Axes: ylabel='Density'>"
      ]
     },
     "execution_count": 765,
     "metadata": {},
     "output_type": "execute_result"
    },
    {
     "data": {
      "image/png": "[encoded data removed]",
      "text/plain": [
       "<Figure size 1100x940 with 1 Axes>"
      ]
     },
     "metadata": {},
     "output_type": "display_data"
    }
   ],
   "source": [
    "sns.kdeplot(data=models_results, cumulative=True)"
   ]
  },
  {
   "cell_type": "code",
   "execution_count": 769,
   "metadata": {},
   "outputs": [
    {
     "data": {
      "text/plain": [
       "<seaborn.axisgrid.FacetGrid at 0x7fabf33b4d40>"
      ]
     },
     "execution_count": 769,
     "metadata": {},
     "output_type": "execute_result"
    },
    {
     "data": {
      "image/png": "[encoded data removed]",
      "text/plain": [
       "<Figure size 1108x1000 with 1 Axes>"
      ]
     },
     "metadata": {},
     "output_type": "display_data"
    }
   ],
   "source": [
    "sns.lmplot(data=processed_penguins_df, x='flipper_length_mm', y='body_mass_g', hue='sex', height=10)"
   ]
  },
  {
   "cell_type": "code",
   "execution_count": 776,
   "metadata": {},
   "outputs": [
    {
     "name": "stdout",
     "output_type": "stream",
     "text": [
      "Optimization terminated successfully.\n",
      "         Current function value: 0.360900\n",
      "         Iterations 7\n"
     ]
    },
    {
     "data": {
      "text/html": [
       "<table class=\"simpletable\">\n",
       "<caption>Logit Regression Results</caption>\n",
       "<tr>\n",
       "  <th>Dep. Variable:</th>      <td>numeric_sex</td>   <th>  No. Observations:  </th>  <td>   333</td>  \n",
       "</tr>\n",
       "<tr>\n",
       "  <th>Model:</th>                 <td>Logit</td>      <th>  Df Residuals:      </th>  <td>   327</td>  \n",
       "</tr>\n",
       "<tr>\n",
       "  <th>Method:</th>                 <td>MLE</td>       <th>  Df Model:          </th>  <td>     5</td>  \n",
       "</tr>\n",
       "<tr>\n",
       "  <th>Date:</th>            <td>Tue, 20 Feb 2024</td> <th>  Pseudo R-squ.:     </th>  <td>0.4793</td>  \n",
       "</tr>\n",
       "<tr>\n",
       "  <th>Time:</th>                <td>22:55:18</td>     <th>  Log-Likelihood:    </th> <td> -120.18</td> \n",
       "</tr>\n",
       "<tr>\n",
       "  <th>converged:</th>             <td>True</td>       <th>  LL-Null:           </th> <td> -230.80</td> \n",
       "</tr>\n",
       "<tr>\n",
       "  <th>Covariance Type:</th>     <td>nonrobust</td>    <th>  LLR p-value:       </th> <td>8.021e-46</td>\n",
       "</tr>\n",
       "</table>\n",
       "<table class=\"simpletable\">\n",
       "<tr>\n",
       "             <td></td>               <th>coef</th>     <th>std err</th>      <th>z</th>      <th>P>|z|</th>  <th>[0.025</th>    <th>0.975]</th>  \n",
       "</tr>\n",
       "<tr>\n",
       "  <th>Intercept</th>              <td>  -61.4464</td> <td>    6.944</td> <td>   -8.849</td> <td> 0.000</td> <td>  -75.057</td> <td>  -47.836</td>\n",
       "</tr>\n",
       "<tr>\n",
       "  <th>C(island)[T.Dream]</th>     <td>   -1.5596</td> <td>    0.493</td> <td>   -3.163</td> <td> 0.002</td> <td>   -2.526</td> <td>   -0.593</td>\n",
       "</tr>\n",
       "<tr>\n",
       "  <th>C(island)[T.Torgersen]</th> <td>   -1.0323</td> <td>    0.599</td> <td>   -1.725</td> <td> 0.085</td> <td>   -2.205</td> <td>    0.141</td>\n",
       "</tr>\n",
       "<tr>\n",
       "  <th>flipper_length_mm</th>      <td>    0.1393</td> <td>    0.024</td> <td>    5.874</td> <td> 0.000</td> <td>    0.093</td> <td>    0.186</td>\n",
       "</tr>\n",
       "<tr>\n",
       "  <th>bill_length_mm</th>         <td>    0.1413</td> <td>    0.045</td> <td>    3.150</td> <td> 0.002</td> <td>    0.053</td> <td>    0.229</td>\n",
       "</tr>\n",
       "<tr>\n",
       "  <th>bill_depth_mm</th>          <td>    1.6401</td> <td>    0.185</td> <td>    8.864</td> <td> 0.000</td> <td>    1.277</td> <td>    2.003</td>\n",
       "</tr>\n",
       "</table>"
      ],
      "text/latex": [
       "\\begin{center}\n",
       "\\begin{tabular}{lclc}\n",
       "\\toprule\n",
       "\\textbf{Dep. Variable:}         &   numeric\\_sex   & \\textbf{  No. Observations:  } &      333    \\\\\n",
       "\\textbf{Model:}                 &      Logit       & \\textbf{  Df Residuals:      } &      327    \\\\\n",
       "\\textbf{Method:}                &       MLE        & \\textbf{  Df Model:          } &        5    \\\\\n",
       "\\textbf{Date:}                  & Tue, 20 Feb 2024 & \\textbf{  Pseudo R-squ.:     } &   0.4793    \\\\\n",
       "\\textbf{Time:}                  &     22:55:18     & \\textbf{  Log-Likelihood:    } &   -120.18   \\\\\n",
       "\\textbf{converged:}             &       True       & \\textbf{  LL-Null:           } &   -230.80   \\\\\n",
       "\\textbf{Covariance Type:}       &    nonrobust     & \\textbf{  LLR p-value:       } & 8.021e-46   \\\\\n",
       "\\bottomrule\n",
       "\\end{tabular}\n",
       "\\begin{tabular}{lcccccc}\n",
       "                                & \\textbf{coef} & \\textbf{std err} & \\textbf{z} & \\textbf{P$> |$z$|$} & \\textbf{[0.025} & \\textbf{0.975]}  \\\\\n",
       "\\midrule\n",
       "\\textbf{Intercept}              &     -61.4464  &        6.944     &    -8.849  &         0.000        &      -75.057    &      -47.836     \\\\\n",
       "\\textbf{C(island)[T.Dream]}     &      -1.5596  &        0.493     &    -3.163  &         0.002        &       -2.526    &       -0.593     \\\\\n",
       "\\textbf{C(island)[T.Torgersen]} &      -1.0323  &        0.599     &    -1.725  &         0.085        &       -2.205    &        0.141     \\\\\n",
       "\\textbf{flipper\\_length\\_mm}    &       0.1393  &        0.024     &     5.874  &         0.000        &        0.093    &        0.186     \\\\\n",
       "\\textbf{bill\\_length\\_mm}       &       0.1413  &        0.045     &     3.150  &         0.002        &        0.053    &        0.229     \\\\\n",
       "\\textbf{bill\\_depth\\_mm}        &       1.6401  &        0.185     &     8.864  &         0.000        &        1.277    &        2.003     \\\\\n",
       "\\bottomrule\n",
       "\\end{tabular}\n",
       "%\\caption{Logit Regression Results}\n",
       "\\end{center}"
      ],
      "text/plain": [
       "<class 'statsmodels.iolib.summary.Summary'>\n",
       "\"\"\"\n",
       "                           Logit Regression Results                           \n",
       "==============================================================================\n",
       "Dep. Variable:            numeric_sex   No. Observations:                  333\n",
       "Model:                          Logit   Df Residuals:                      327\n",
       "Method:                           MLE   Df Model:                            5\n",
       "Date:                Tue, 20 Feb 2024   Pseudo R-squ.:                  0.4793\n",
       "Time:                        22:55:18   Log-Likelihood:                -120.18\n",
       "converged:                       True   LL-Null:                       -230.80\n",
       "Covariance Type:            nonrobust   LLR p-value:                 8.021e-46\n",
       "==========================================================================================\n",
       "                             coef    std err          z      P>|z|      [0.025      0.975]\n",
       "------------------------------------------------------------------------------------------\n",
       "Intercept                -61.4464      6.944     -8.849      0.000     -75.057     -47.836\n",
       "C(island)[T.Dream]        -1.5596      0.493     -3.163      0.002      -2.526      -0.593\n",
       "C(island)[T.Torgersen]    -1.0323      0.599     -1.725      0.085      -2.205       0.141\n",
       "flipper_length_mm          0.1393      0.024      5.874      0.000       0.093       0.186\n",
       "bill_length_mm             0.1413      0.045      3.150      0.002       0.053       0.229\n",
       "bill_depth_mm              1.6401      0.185      8.864      0.000       1.277       2.003\n",
       "==========================================================================================\n",
       "\"\"\""
      ]
     },
     "execution_count": 776,
     "metadata": {},
     "output_type": "execute_result"
    }
   ],
   "source": [
    "smf.logit(\n",
    "  formula='numeric_sex ~ flipper_length_mm + bill_length_mm + bill_depth_mm + C(island)',\n",
    "  data=processed_penguins_df\n",
    ").fit().summary()\n"
   ]
  },
  {
   "cell_type": "code",
   "execution_count": 777,
   "metadata": {},
   "outputs": [
    {
     "data": {
      "text/html": [
       "<div>\n",
       "<style scoped>\n",
       "    .dataframe tbody tr th:only-of-type {\n",
       "        vertical-align: middle;\n",
       "    }\n",
       "\n",
       "    .dataframe tbody tr th {\n",
       "        vertical-align: top;\n",
       "    }\n",
       "\n",
       "    .dataframe thead th {\n",
       "        text-align: right;\n",
       "    }\n",
       "</style>\n",
       "<table border=\"1\" class=\"dataframe\">\n",
       "  <thead>\n",
       "    <tr style=\"text-align: right;\">\n",
       "      <th></th>\n",
       "      <th>island</th>\n",
       "      <th>sex</th>\n",
       "      <th>count</th>\n",
       "    </tr>\n",
       "  </thead>\n",
       "  <tbody>\n",
       "    <tr>\n",
       "      <th>0</th>\n",
       "      <td>Biscoe</td>\n",
       "      <td>male</td>\n",
       "      <td>83</td>\n",
       "    </tr>\n",
       "    <tr>\n",
       "      <th>1</th>\n",
       "      <td>Biscoe</td>\n",
       "      <td>female</td>\n",
       "      <td>80</td>\n",
       "    </tr>\n",
       "    <tr>\n",
       "      <th>2</th>\n",
       "      <td>Dream</td>\n",
       "      <td>male</td>\n",
       "      <td>62</td>\n",
       "    </tr>\n",
       "    <tr>\n",
       "      <th>3</th>\n",
       "      <td>Dream</td>\n",
       "      <td>female</td>\n",
       "      <td>61</td>\n",
       "    </tr>\n",
       "    <tr>\n",
       "      <th>4</th>\n",
       "      <td>Torgersen</td>\n",
       "      <td>female</td>\n",
       "      <td>24</td>\n",
       "    </tr>\n",
       "    <tr>\n",
       "      <th>5</th>\n",
       "      <td>Torgersen</td>\n",
       "      <td>male</td>\n",
       "      <td>23</td>\n",
       "    </tr>\n",
       "  </tbody>\n",
       "</table>\n",
       "</div>"
      ],
      "text/plain": [
       "      island     sex  count\n",
       "0     Biscoe    male     83\n",
       "1     Biscoe  female     80\n",
       "2      Dream    male     62\n",
       "3      Dream  female     61\n",
       "4  Torgersen  female     24\n",
       "5  Torgersen    male     23"
      ]
     },
     "execution_count": 777,
     "metadata": {},
     "output_type": "execute_result"
    }
   ],
   "source": [
    "processed_penguins_df.value_counts(['island','sex']).reset_index(name='count')"
   ]
  },
  {
   "cell_type": "code",
   "execution_count": 780,
   "metadata": {},
   "outputs": [
    {
     "data": {
      "text/html": [
       "<div>\n",
       "<style scoped>\n",
       "    .dataframe tbody tr th:only-of-type {\n",
       "        vertical-align: middle;\n",
       "    }\n",
       "\n",
       "    .dataframe tbody tr th {\n",
       "        vertical-align: top;\n",
       "    }\n",
       "\n",
       "    .dataframe thead th {\n",
       "        text-align: right;\n",
       "    }\n",
       "</style>\n",
       "<table border=\"1\" class=\"dataframe\">\n",
       "  <thead>\n",
       "    <tr style=\"text-align: right;\">\n",
       "      <th></th>\n",
       "      <th>species</th>\n",
       "      <th>island</th>\n",
       "      <th>bill_length_mm</th>\n",
       "      <th>bill_depth_mm</th>\n",
       "      <th>flipper_length_mm</th>\n",
       "      <th>body_mass_g</th>\n",
       "      <th>sex</th>\n",
       "      <th>year</th>\n",
       "      <th>numeric_sex</th>\n",
       "      <th>is_adelie</th>\n",
       "    </tr>\n",
       "  </thead>\n",
       "  <tbody>\n",
       "    <tr>\n",
       "      <th>0</th>\n",
       "      <td>Adelie</td>\n",
       "      <td>Torgersen</td>\n",
       "      <td>39.1</td>\n",
       "      <td>18.7</td>\n",
       "      <td>181.0</td>\n",
       "      <td>3750.0</td>\n",
       "      <td>male</td>\n",
       "      <td>2007</td>\n",
       "      <td>1</td>\n",
       "      <td>1</td>\n",
       "    </tr>\n",
       "    <tr>\n",
       "      <th>1</th>\n",
       "      <td>Adelie</td>\n",
       "      <td>Torgersen</td>\n",
       "      <td>39.5</td>\n",
       "      <td>17.4</td>\n",
       "      <td>186.0</td>\n",
       "      <td>3800.0</td>\n",
       "      <td>female</td>\n",
       "      <td>2007</td>\n",
       "      <td>0</td>\n",
       "      <td>1</td>\n",
       "    </tr>\n",
       "    <tr>\n",
       "      <th>2</th>\n",
       "      <td>Adelie</td>\n",
       "      <td>Torgersen</td>\n",
       "      <td>40.3</td>\n",
       "      <td>18.0</td>\n",
       "      <td>195.0</td>\n",
       "      <td>3250.0</td>\n",
       "      <td>female</td>\n",
       "      <td>2007</td>\n",
       "      <td>0</td>\n",
       "      <td>1</td>\n",
       "    </tr>\n",
       "    <tr>\n",
       "      <th>4</th>\n",
       "      <td>Adelie</td>\n",
       "      <td>Torgersen</td>\n",
       "      <td>36.7</td>\n",
       "      <td>19.3</td>\n",
       "      <td>193.0</td>\n",
       "      <td>3450.0</td>\n",
       "      <td>female</td>\n",
       "      <td>2007</td>\n",
       "      <td>0</td>\n",
       "      <td>1</td>\n",
       "    </tr>\n",
       "    <tr>\n",
       "      <th>5</th>\n",
       "      <td>Adelie</td>\n",
       "      <td>Torgersen</td>\n",
       "      <td>39.3</td>\n",
       "      <td>20.6</td>\n",
       "      <td>190.0</td>\n",
       "      <td>3650.0</td>\n",
       "      <td>male</td>\n",
       "      <td>2007</td>\n",
       "      <td>1</td>\n",
       "      <td>1</td>\n",
       "    </tr>\n",
       "    <tr>\n",
       "      <th>...</th>\n",
       "      <td>...</td>\n",
       "      <td>...</td>\n",
       "      <td>...</td>\n",
       "      <td>...</td>\n",
       "      <td>...</td>\n",
       "      <td>...</td>\n",
       "      <td>...</td>\n",
       "      <td>...</td>\n",
       "      <td>...</td>\n",
       "      <td>...</td>\n",
       "    </tr>\n",
       "    <tr>\n",
       "      <th>339</th>\n",
       "      <td>Chinstrap</td>\n",
       "      <td>Dream</td>\n",
       "      <td>55.8</td>\n",
       "      <td>19.8</td>\n",
       "      <td>207.0</td>\n",
       "      <td>4000.0</td>\n",
       "      <td>male</td>\n",
       "      <td>2009</td>\n",
       "      <td>1</td>\n",
       "      <td>0</td>\n",
       "    </tr>\n",
       "    <tr>\n",
       "      <th>340</th>\n",
       "      <td>Chinstrap</td>\n",
       "      <td>Dream</td>\n",
       "      <td>43.5</td>\n",
       "      <td>18.1</td>\n",
       "      <td>202.0</td>\n",
       "      <td>3400.0</td>\n",
       "      <td>female</td>\n",
       "      <td>2009</td>\n",
       "      <td>0</td>\n",
       "      <td>0</td>\n",
       "    </tr>\n",
       "    <tr>\n",
       "      <th>341</th>\n",
       "      <td>Chinstrap</td>\n",
       "      <td>Dream</td>\n",
       "      <td>49.6</td>\n",
       "      <td>18.2</td>\n",
       "      <td>193.0</td>\n",
       "      <td>3775.0</td>\n",
       "      <td>male</td>\n",
       "      <td>2009</td>\n",
       "      <td>1</td>\n",
       "      <td>0</td>\n",
       "    </tr>\n",
       "    <tr>\n",
       "      <th>342</th>\n",
       "      <td>Chinstrap</td>\n",
       "      <td>Dream</td>\n",
       "      <td>50.8</td>\n",
       "      <td>19.0</td>\n",
       "      <td>210.0</td>\n",
       "      <td>4100.0</td>\n",
       "      <td>male</td>\n",
       "      <td>2009</td>\n",
       "      <td>1</td>\n",
       "      <td>0</td>\n",
       "    </tr>\n",
       "    <tr>\n",
       "      <th>343</th>\n",
       "      <td>Chinstrap</td>\n",
       "      <td>Dream</td>\n",
       "      <td>50.2</td>\n",
       "      <td>18.7</td>\n",
       "      <td>198.0</td>\n",
       "      <td>3775.0</td>\n",
       "      <td>female</td>\n",
       "      <td>2009</td>\n",
       "      <td>0</td>\n",
       "      <td>0</td>\n",
       "    </tr>\n",
       "  </tbody>\n",
       "</table>\n",
       "<p>333 rows × 10 columns</p>\n",
       "</div>"
      ],
      "text/plain": [
       "       species     island  bill_length_mm  bill_depth_mm  flipper_length_mm  \\\n",
       "0       Adelie  Torgersen            39.1           18.7              181.0   \n",
       "1       Adelie  Torgersen            39.5           17.4              186.0   \n",
       "2       Adelie  Torgersen            40.3           18.0              195.0   \n",
       "4       Adelie  Torgersen            36.7           19.3              193.0   \n",
       "5       Adelie  Torgersen            39.3           20.6              190.0   \n",
       "..         ...        ...             ...            ...                ...   \n",
       "339  Chinstrap      Dream            55.8           19.8              207.0   \n",
       "340  Chinstrap      Dream            43.5           18.1              202.0   \n",
       "341  Chinstrap      Dream            49.6           18.2              193.0   \n",
       "342  Chinstrap      Dream            50.8           19.0              210.0   \n",
       "343  Chinstrap      Dream            50.2           18.7              198.0   \n",
       "\n",
       "     body_mass_g     sex  year  numeric_sex  is_adelie  \n",
       "0         3750.0    male  2007            1          1  \n",
       "1         3800.0  female  2007            0          1  \n",
       "2         3250.0  female  2007            0          1  \n",
       "4         3450.0  female  2007            0          1  \n",
       "5         3650.0    male  2007            1          1  \n",
       "..           ...     ...   ...          ...        ...  \n",
       "339       4000.0    male  2009            1          0  \n",
       "340       3400.0  female  2009            0          0  \n",
       "341       3775.0    male  2009            1          0  \n",
       "342       4100.0    male  2009            1          0  \n",
       "343       3775.0  female  2009            0          0  \n",
       "\n",
       "[333 rows x 10 columns]"
      ]
     },
     "execution_count": 780,
     "metadata": {},
     "output_type": "execute_result"
    }
   ],
   "source": [
    "processed_penguins_df = processed_penguins_df.assign(is_adelie = lambda df: df['species'].replace(['Adelie', 'Gentoo', 'Chinstrap'], [1, 0, 0]))\n",
    "\n",
    "processed_penguins_df"
   ]
  },
  {
   "cell_type": "code",
   "execution_count": 781,
   "metadata": {},
   "outputs": [
    {
     "name": "stdout",
     "output_type": "stream",
     "text": [
      "Optimization terminated successfully.\n",
      "         Current function value: 0.355225\n",
      "         Iterations 8\n"
     ]
    },
    {
     "data": {
      "text/plain": [
       "Intercept            40.568368\n",
       "C(sex)[T.male]        1.282656\n",
       "flipper_length_mm    -0.209705\n",
       "dtype: float64"
      ]
     },
     "execution_count": 781,
     "metadata": {},
     "output_type": "execute_result"
    }
   ],
   "source": [
    "model_is_adelie = smf.logit(\n",
    "  formula='is_adelie ~ flipper_length_mm + C(sex)',\n",
    "  data=processed_penguins_df\n",
    ").fit()\n",
    "\n",
    "model_is_adelie.params"
   ]
  },
  {
   "cell_type": "code",
   "execution_count": 782,
   "metadata": {},
   "outputs": [
    {
     "data": {
      "text/html": [
       "<div>\n",
       "<style scoped>\n",
       "    .dataframe tbody tr th:only-of-type {\n",
       "        vertical-align: middle;\n",
       "    }\n",
       "\n",
       "    .dataframe tbody tr th {\n",
       "        vertical-align: top;\n",
       "    }\n",
       "\n",
       "    .dataframe thead th {\n",
       "        text-align: right;\n",
       "    }\n",
       "</style>\n",
       "<table border=\"1\" class=\"dataframe\">\n",
       "  <thead>\n",
       "    <tr style=\"text-align: right;\">\n",
       "      <th></th>\n",
       "      <th>actual_adelie</th>\n",
       "      <th>predicted_values</th>\n",
       "    </tr>\n",
       "  </thead>\n",
       "  <tbody>\n",
       "    <tr>\n",
       "      <th>0</th>\n",
       "      <td>1</td>\n",
       "      <td>1.0</td>\n",
       "    </tr>\n",
       "    <tr>\n",
       "      <th>1</th>\n",
       "      <td>1</td>\n",
       "      <td>1.0</td>\n",
       "    </tr>\n",
       "    <tr>\n",
       "      <th>2</th>\n",
       "      <td>1</td>\n",
       "      <td>0.0</td>\n",
       "    </tr>\n",
       "    <tr>\n",
       "      <th>4</th>\n",
       "      <td>1</td>\n",
       "      <td>1.0</td>\n",
       "    </tr>\n",
       "    <tr>\n",
       "      <th>5</th>\n",
       "      <td>1</td>\n",
       "      <td>1.0</td>\n",
       "    </tr>\n",
       "    <tr>\n",
       "      <th>...</th>\n",
       "      <td>...</td>\n",
       "      <td>...</td>\n",
       "    </tr>\n",
       "    <tr>\n",
       "      <th>339</th>\n",
       "      <td>0</td>\n",
       "      <td>0.0</td>\n",
       "    </tr>\n",
       "    <tr>\n",
       "      <th>340</th>\n",
       "      <td>0</td>\n",
       "      <td>0.0</td>\n",
       "    </tr>\n",
       "    <tr>\n",
       "      <th>341</th>\n",
       "      <td>0</td>\n",
       "      <td>1.0</td>\n",
       "    </tr>\n",
       "    <tr>\n",
       "      <th>342</th>\n",
       "      <td>0</td>\n",
       "      <td>0.0</td>\n",
       "    </tr>\n",
       "    <tr>\n",
       "      <th>343</th>\n",
       "      <td>0</td>\n",
       "      <td>0.0</td>\n",
       "    </tr>\n",
       "  </tbody>\n",
       "</table>\n",
       "<p>333 rows × 2 columns</p>\n",
       "</div>"
      ],
      "text/plain": [
       "     actual_adelie  predicted_values\n",
       "0                1               1.0\n",
       "1                1               1.0\n",
       "2                1               0.0\n",
       "4                1               1.0\n",
       "5                1               1.0\n",
       "..             ...               ...\n",
       "339              0               0.0\n",
       "340              0               0.0\n",
       "341              0               1.0\n",
       "342              0               0.0\n",
       "343              0               0.0\n",
       "\n",
       "[333 rows x 2 columns]"
      ]
     },
     "execution_count": 782,
     "metadata": {},
     "output_type": "execute_result"
    }
   ],
   "source": [
    "is_adelie_df_predictions = pd.DataFrame(dict(actual_adelie=processed_penguins_df\n",
    "                                             ['is_adelie'], \n",
    "                                             predicted_values = model_is_adelie.predict().round()))\n",
    "is_adelie_df_predictions"
   ]
  },
  {
   "cell_type": "code",
   "execution_count": 784,
   "metadata": {},
   "outputs": [
    {
     "data": {
      "text/html": [
       "<div>\n",
       "<style scoped>\n",
       "    .dataframe tbody tr th:only-of-type {\n",
       "        vertical-align: middle;\n",
       "    }\n",
       "\n",
       "    .dataframe tbody tr th {\n",
       "        vertical-align: top;\n",
       "    }\n",
       "\n",
       "    .dataframe thead th {\n",
       "        text-align: right;\n",
       "    }\n",
       "</style>\n",
       "<table border=\"1\" class=\"dataframe\">\n",
       "  <thead>\n",
       "    <tr style=\"text-align: right;\">\n",
       "      <th></th>\n",
       "      <th>actual_adelie</th>\n",
       "      <th>predicted_values</th>\n",
       "      <th>count</th>\n",
       "    </tr>\n",
       "  </thead>\n",
       "  <tbody>\n",
       "    <tr>\n",
       "      <th>0</th>\n",
       "      <td>0</td>\n",
       "      <td>0.0</td>\n",
       "      <td>151</td>\n",
       "    </tr>\n",
       "    <tr>\n",
       "      <th>1</th>\n",
       "      <td>1</td>\n",
       "      <td>1.0</td>\n",
       "      <td>129</td>\n",
       "    </tr>\n",
       "    <tr>\n",
       "      <th>2</th>\n",
       "      <td>0</td>\n",
       "      <td>1.0</td>\n",
       "      <td>36</td>\n",
       "    </tr>\n",
       "    <tr>\n",
       "      <th>3</th>\n",
       "      <td>1</td>\n",
       "      <td>0.0</td>\n",
       "      <td>17</td>\n",
       "    </tr>\n",
       "  </tbody>\n",
       "</table>\n",
       "</div>"
      ],
      "text/plain": [
       "   actual_adelie  predicted_values  count\n",
       "0              0               0.0    151\n",
       "1              1               1.0    129\n",
       "2              0               1.0     36\n",
       "3              1               0.0     17"
      ]
     },
     "execution_count": 784,
     "metadata": {},
     "output_type": "execute_result"
    }
   ],
   "source": [
    "is_adelie_df_predictions.value_counts(['actual_adelie', 'predicted_values']).reset_index(name='count')"
   ]
  },
  {
   "cell_type": "code",
   "execution_count": 785,
   "metadata": {},
   "outputs": [
    {
     "name": "stdout",
     "output_type": "stream",
     "text": [
      "[[151  36]\n",
      " [ 17 129]]\n"
     ]
    },
    {
     "data": {
      "text/plain": [
       "0.8408408408408409"
      ]
     },
     "execution_count": 785,
     "metadata": {},
     "output_type": "execute_result"
    }
   ],
   "source": [
    "print(\n",
    "    sklearn.metrics.confusion_matrix(\n",
    "        is_adelie_df_predictions.actual_adelie,\n",
    "        is_adelie_df_predictions.predicted_values\n",
    "    )\n",
    ")\n",
    "\n",
    "sklearn.metrics.accuracy_score(\n",
    "    is_adelie_df_predictions.actual_adelie,\n",
    "    is_adelie_df_predictions.predicted_values\n",
    ")"
   ]
  },
  {
   "cell_type": "code",
   "execution_count": 793,
   "metadata": {},
   "outputs": [
    {
     "data": {
      "text/plain": [
       "<seaborn.axisgrid.FacetGrid at 0x7fabfac881a0>"
      ]
     },
     "execution_count": 793,
     "metadata": {},
     "output_type": "execute_result"
    },
    {
     "data": {
      "image/png": "[encoded data removed]",
      "text/plain": [
       "<Figure size 1128.88x500 with 2 Axes>"
      ]
     },
     "metadata": {},
     "output_type": "display_data"
    }
   ],
   "source": [
    "sns.lmplot(data=processed_penguins_df, x='flipper_length_mm', y='bill_depth_mm', hue='species', col='sex', height=5)"
   ]
  }
 ],
 "metadata": {
  "kernelspec": {
   "display_name": "matplot",
   "language": "python",
   "name": "python3"
  },
  "language_info": {
   "codemirror_mode": {
    "name": "ipython",
    "version": 3
   },
   "file_extension": ".py",
   "mimetype": "text/x-python",
   "name": "python",
   "nbconvert_exporter": "python",
   "pygments_lexer": "ipython3",
   "version": "3.12.1"
  },
  "orig_nbformat": 4
 },
 "nbformat": 4,
 "nbformat_minor": 2
}
